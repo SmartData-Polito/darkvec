{
 "cells": [
  {
   "cell_type": "markdown",
   "id": "marked-startup",
   "metadata": {},
   "source": [
    "# <b>DarkVec: Automatic Analysis of Darknet Trafficwith Word Embeddings</b>\n",
    "## <b>3) Grid Search</b>  "
   ]
  },
  {
   "cell_type": "markdown",
   "id": "tested-denver",
   "metadata": {},
   "source": [
    "___\n",
    "\n",
    "## <b>Table of Content</b> <a id=\"toc_\"></a>\n",
    "\n",
    "* [Training Window Length](#trainwindow)  \n",
    "* [Top-n Ports for Auto Defined Services](#topn)  \n",
    "    * [Single Training](#topn:single)  \n",
    "    * [incremental Training](#topn:incremental)  \n",
    "* [k of k-NN Classifier](#knofknn)\n",
    "* [Without Duplicates and Incremental Training](#duplicatesincremental)\n",
    "* [Word2Vec Parameters](#word2vec)\n",
    "* [Best Cases](#final)  \n",
    "\n",
    "Notebook description\n",
    "\n",
    "___\n",
    "***Note:*** All the code and data we provide are the ones included in the paper. To speed up the notebook execution, by default we trim the files when reading them. Comments on how to run on complete files are provided in the notebook. Note that running the notebook with the complete dataset requires *a PC with significant amount of memory*. \n",
    "\n",
    "***Note:*** Be aware that these script require a large amount of time for training all models tested in the paper."
   ]
  },
  {
   "cell_type": "code",
   "execution_count": 1,
   "id": "dimensional-relevance",
   "metadata": {},
   "outputs": [],
   "source": [
    "DEMONSTRATIVE = False"
   ]
  },
  {
   "cell_type": "code",
   "execution_count": 2,
   "id": "arranged-default",
   "metadata": {},
   "outputs": [],
   "source": [
    "from config import *\n",
    "from src.word2vec import Word2Vec\n",
    "from src.preprocess import load_raw_data, filter_data\n",
    "from src.preprocess import get_next_day, get_prev_day\n",
    "from src.knnClassifier import *\n",
    "from src.utils import *\n",
    "from src.callbacks import *\n",
    "\n",
    "from sklearn.manifold import TSNE\n",
    "from sklearn.metrics import pairwise_distances as distances\n",
    "import pandas as pd"
   ]
  },
  {
   "cell_type": "code",
   "execution_count": 3,
   "id": "victorian-compression",
   "metadata": {},
   "outputs": [],
   "source": [
    "import matplotlib.pyplot as plt\n",
    "%matplotlib inline\n",
    "import fastplot\n",
    "from cycler import cycler\n",
    "plt.rcParams[\"font.family\"] = \"serif\"\n",
    "\n",
    "cc = (cycler('color',['k', 'r', 'b', 'g', 'y', 'm', 'c'])+\n",
    "      cycler('linestyle',['-', '--', '-.', ':', '-', '--', '-.']))"
   ]
  },
  {
   "cell_type": "markdown",
   "id": "gothic-elimination",
   "metadata": {},
   "source": [
    "___\n",
    "### <b>Prerequisites</b> <a name=\"trainwindow\"></a>\n",
    "\n"
   ]
  },
  {
   "cell_type": "code",
   "execution_count": 4,
   "id": "crucial-senegal",
   "metadata": {},
   "outputs": [
    {
     "name": "stdout",
     "output_type": "stream",
     "text": [
      "(3403919, 6)\n"
     ]
    },
    {
     "data": {
      "text/html": [
       "<div>\n",
       "<style scoped>\n",
       "    .dataframe tbody tr th:only-of-type {\n",
       "        vertical-align: middle;\n",
       "    }\n",
       "\n",
       "    .dataframe tbody tr th {\n",
       "        vertical-align: top;\n",
       "    }\n",
       "\n",
       "    .dataframe thead th {\n",
       "        text-align: right;\n",
       "    }\n",
       "</style>\n",
       "<table border=\"1\" class=\"dataframe\">\n",
       "  <thead>\n",
       "    <tr style=\"text-align: right;\">\n",
       "      <th></th>\n",
       "      <th>ts</th>\n",
       "      <th>ip</th>\n",
       "      <th>port</th>\n",
       "      <th>proto</th>\n",
       "      <th>pck_len</th>\n",
       "      <th>pp</th>\n",
       "    </tr>\n",
       "    <tr>\n",
       "      <th>ts</th>\n",
       "      <th></th>\n",
       "      <th></th>\n",
       "      <th></th>\n",
       "      <th></th>\n",
       "      <th></th>\n",
       "      <th></th>\n",
       "    </tr>\n",
       "  </thead>\n",
       "  <tbody>\n",
       "    <tr>\n",
       "      <th>2021-03-30 22:29:08.691001</th>\n",
       "      <td>2021-03-30 22:29:08.691001</td>\n",
       "      <td>201.166.132.114</td>\n",
       "      <td>1433</td>\n",
       "      <td>tcp</td>\n",
       "      <td>66</td>\n",
       "      <td>1433/tcp</td>\n",
       "    </tr>\n",
       "    <tr>\n",
       "      <th>2021-03-30 22:29:08.691010</th>\n",
       "      <td>2021-03-30 22:29:08.691010</td>\n",
       "      <td>201.166.132.114</td>\n",
       "      <td>1433</td>\n",
       "      <td>tcp</td>\n",
       "      <td>66</td>\n",
       "      <td>1433/tcp</td>\n",
       "    </tr>\n",
       "    <tr>\n",
       "      <th>2021-03-30 22:29:08.811067</th>\n",
       "      <td>2021-03-30 22:29:08.811067</td>\n",
       "      <td>172.245.10.231</td>\n",
       "      <td>3699</td>\n",
       "      <td>tcp</td>\n",
       "      <td>60</td>\n",
       "      <td>3699/tcp</td>\n",
       "    </tr>\n",
       "  </tbody>\n",
       "</table>\n",
       "</div>"
      ],
      "text/plain": [
       "                                                   ts               ip  port  \\\n",
       "ts                                                                             \n",
       "2021-03-30 22:29:08.691001 2021-03-30 22:29:08.691001  201.166.132.114  1433   \n",
       "2021-03-30 22:29:08.691010 2021-03-30 22:29:08.691010  201.166.132.114  1433   \n",
       "2021-03-30 22:29:08.811067 2021-03-30 22:29:08.811067   172.245.10.231  3699   \n",
       "\n",
       "                           proto  pck_len        pp  \n",
       "ts                                                   \n",
       "2021-03-30 22:29:08.691001   tcp       66  1433/tcp  \n",
       "2021-03-30 22:29:08.691010   tcp       66  1433/tcp  \n",
       "2021-03-30 22:29:08.811067   tcp       60  3699/tcp  "
      ]
     },
     "execution_count": 4,
     "metadata": {},
     "output_type": "execute_result"
    }
   ],
   "source": [
    "# Load last day of traffic\n",
    "raw_data = load_raw_data('20210331')\n",
    "filtered = filter_data(raw_data, '20210331')\n",
    "\n",
    "print(filtered.shape)\n",
    "filtered.head(3)"
   ]
  },
  {
   "cell_type": "code",
   "execution_count": 66,
   "id": "primary-walnut",
   "metadata": {},
   "outputs": [
    {
     "name": "stdout",
     "output_type": "stream",
     "text": [
      "(22765, 2)\n"
     ]
    },
    {
     "data": {
      "text/html": [
       "<div>\n",
       "<style scoped>\n",
       "    .dataframe tbody tr th:only-of-type {\n",
       "        vertical-align: middle;\n",
       "    }\n",
       "\n",
       "    .dataframe tbody tr th {\n",
       "        vertical-align: top;\n",
       "    }\n",
       "\n",
       "    .dataframe thead th {\n",
       "        text-align: right;\n",
       "    }\n",
       "</style>\n",
       "<table border=\"1\" class=\"dataframe\">\n",
       "  <thead>\n",
       "    <tr style=\"text-align: right;\">\n",
       "      <th></th>\n",
       "      <th>ip</th>\n",
       "      <th>class</th>\n",
       "    </tr>\n",
       "  </thead>\n",
       "  <tbody>\n",
       "    <tr>\n",
       "      <th>0</th>\n",
       "      <td>201.166.132.114</td>\n",
       "      <td>unknown</td>\n",
       "    </tr>\n",
       "    <tr>\n",
       "      <th>1</th>\n",
       "      <td>172.245.10.231</td>\n",
       "      <td>unknown</td>\n",
       "    </tr>\n",
       "    <tr>\n",
       "      <th>2</th>\n",
       "      <td>119.237.180.88</td>\n",
       "      <td>unknown</td>\n",
       "    </tr>\n",
       "  </tbody>\n",
       "</table>\n",
       "</div>"
      ],
      "text/plain": [
       "                ip    class\n",
       "0  201.166.132.114  unknown\n",
       "1   172.245.10.231  unknown\n",
       "2   119.237.180.88  unknown"
      ]
     },
     "execution_count": 66,
     "metadata": {},
     "output_type": "execute_result"
    }
   ],
   "source": [
    "# Load the ground truth\n",
    "gt = pd.read_csv('../ground_truth/big_gt.csv')\n",
    "ips = filtered.ip.unique()\n",
    "# Get the lookup dataframe to retrieve\n",
    "# the ground truth class of the last day senders\n",
    "gt2 = pd.read_csv(MANUAL_GT).rename(columns={'gt':'class'})\n",
    "gt2 = gt2[~gt2['class'].isin(['bitsight', 'shadowserver.org', 'unknown'])]\n",
    "gt2 = gt2[~gt2.ip.isin(gt.ip)]\n",
    "gt = pd.concat([gt, gt2])\n",
    "\"\"\"\n",
    "lookup = pd.DataFrame(ips, columns=['ip'])\\\n",
    "           .merge(gt, on='ip', how='left')\\\n",
    "           .fillna('unknown').replace({ 'criminalip':'unknown', \n",
    "                'adscore':'unknown', 'quadmetrics':'unknown', \n",
    "                'esrg_stanford':'unknown', 'netscout':'unknown'})\n",
    "\"\"\"\n",
    "lookup = pd.DataFrame(ips, columns=['ip'])\\\n",
    "           .merge(gt, on='ip', how='left')\\\n",
    "           .fillna('unknown')\n",
    "freqs = lookup.value_counts('class')\n",
    "freqs = freqs[freqs>=10].index\n",
    "idx = lookup[~lookup['class'].isin(freqs)].index\n",
    "lookup.loc[idx, 'class'] = 'unknown'\n",
    "print(lookup.shape)\n",
    "lookup.head(3)"
   ]
  },
  {
   "cell_type": "code",
   "execution_count": 35,
   "id": "blessed-yukon",
   "metadata": {},
   "outputs": [
    {
     "name": "stdout",
     "output_type": "stream",
     "text": [
      "                precision    recall  f1-score   support\n",
      "\n",
      "        shodan       1.00      0.96      0.98        51\n",
      "        censys       0.99      1.00      1.00       328\n",
      "          ipip       1.00      0.57      0.73        49\n",
      "    netsystems       1.00      1.00      1.00        94\n",
      "internetcensus       0.99      0.99      0.99        97\n",
      "    binaryedge       1.00      0.68      0.81        25\n",
      "   alphastrike       1.00      0.87      0.93       281\n",
      "  shadowserver       1.00      1.00      1.00       574\n",
      "        u_mich       1.00      1.00      1.00        20\n",
      "\n",
      "     micro avg       1.00      0.95      0.98      1519\n",
      "     macro avg       1.00      0.90      0.94      1519\n",
      "  weighted avg       1.00      0.95      0.97      1519\n",
      "\n"
     ]
    }
   ],
   "source": [
    "mlist = [('auto', 5, 200)]\n",
    "snames = {'ss':'Single', 'dk':'Domain Knowledge Based',\n",
    "          'auto':'Auto Defined', 'hybrid':'Hybrid'}\n",
    "for service, c, e in mlist:\n",
    "    model_path_name = f'model_gs_{service}_c{c}_e{e}'\n",
    "    w2v = Word2Vec(mname=f'{MODELS}/gridsearch/{model_path_name}')\n",
    "    w2v.load_model()\n",
    "    embeddings = w2v.get_embeddings(ips, lookup)\n",
    "\n",
    "    knn = KnnClassifier(embeddings, 5)\n",
    "    knn.fit_predict()\n",
    "    knnlabels = lookup[lookup['class']!='unknown']['class'].unique()\n",
    "    report = knn.get_report(output_dict=False, labels=knnlabels)\n",
    "    \n",
    "    print(report)"
   ]
  },
  {
   "cell_type": "code",
   "execution_count": 67,
   "id": "charged-living",
   "metadata": {},
   "outputs": [
    {
     "name": "stdout",
     "output_type": "stream",
     "text": [
      "                       precision    recall  f1-score   support\n",
      "\n",
      "           mirai-like       1.00      0.98      0.99      7350\n",
      "               shodan       0.96      0.96      0.96        54\n",
      "               censys       0.98      1.00      0.99       336\n",
      "                 ipip       0.80      0.57      0.67        49\n",
      "            sharashka       1.00      1.00      1.00        50\n",
      "           netsystems       1.00      1.00      1.00        94\n",
      "       internetcensus       0.99      0.99      0.99        97\n",
      "           stretchoid       1.00      0.24      0.39       104\n",
      "           binaryedge       0.98      0.99      0.99       121\n",
      "          alphastrike       0.89      0.84      0.87       281\n",
      "         shadowserver       1.00      1.00      1.00       574\n",
      "               u_mich       1.00      1.00      1.00        20\n",
      "cloud system networks       1.00      1.00      1.00        46\n",
      "\n",
      "            micro avg       0.99      0.97      0.98      9176\n",
      "            macro avg       0.97      0.89      0.91      9176\n",
      "         weighted avg       0.99      0.97      0.98      9176\n",
      "\n"
     ]
    }
   ],
   "source": [
    "mlist = [('auto', 5, 200)]\n",
    "snames = {'ss':'Single', 'dk':'Domain Knowledge Based',\n",
    "          'auto':'Auto Defined', 'hybrid':'Hybrid'}\n",
    "for service, c, e in mlist:\n",
    "    model_path_name = f'model_gs_{service}_c{c}_e{e}'\n",
    "    w2v = Word2Vec(mname=f'{MODELS}/gridsearch/{model_path_name}')\n",
    "    w2v.load_model()\n",
    "    embeddings = w2v.get_embeddings(ips, lookup)\n",
    "\n",
    "    knn = KnnClassifier(embeddings, 5)\n",
    "    knn.fit_predict()\n",
    "    knnlabels = lookup[lookup['class']!='unknown']['class'].unique()\n",
    "    report = knn.get_report(output_dict=False, labels=knnlabels)\n",
    "    \n",
    "    print(report)"
   ]
  },
  {
   "cell_type": "code",
   "execution_count": 8,
   "id": "monthly-livestock",
   "metadata": {},
   "outputs": [
    {
     "name": "stdout",
     "output_type": "stream",
     "text": [
      "(22399, 201)\n"
     ]
    },
    {
     "data": {
      "text/html": [
       "<div>\n",
       "<style scoped>\n",
       "    .dataframe tbody tr th:only-of-type {\n",
       "        vertical-align: middle;\n",
       "    }\n",
       "\n",
       "    .dataframe tbody tr th {\n",
       "        vertical-align: top;\n",
       "    }\n",
       "\n",
       "    .dataframe thead th {\n",
       "        text-align: right;\n",
       "    }\n",
       "</style>\n",
       "<table border=\"1\" class=\"dataframe\">\n",
       "  <thead>\n",
       "    <tr style=\"text-align: right;\">\n",
       "      <th></th>\n",
       "      <th>0</th>\n",
       "      <th>1</th>\n",
       "      <th>2</th>\n",
       "      <th>3</th>\n",
       "      <th>4</th>\n",
       "      <th>5</th>\n",
       "      <th>6</th>\n",
       "      <th>7</th>\n",
       "      <th>8</th>\n",
       "      <th>9</th>\n",
       "      <th>...</th>\n",
       "      <th>191</th>\n",
       "      <th>192</th>\n",
       "      <th>193</th>\n",
       "      <th>194</th>\n",
       "      <th>195</th>\n",
       "      <th>196</th>\n",
       "      <th>197</th>\n",
       "      <th>198</th>\n",
       "      <th>199</th>\n",
       "      <th>class</th>\n",
       "    </tr>\n",
       "    <tr>\n",
       "      <th>ip</th>\n",
       "      <th></th>\n",
       "      <th></th>\n",
       "      <th></th>\n",
       "      <th></th>\n",
       "      <th></th>\n",
       "      <th></th>\n",
       "      <th></th>\n",
       "      <th></th>\n",
       "      <th></th>\n",
       "      <th></th>\n",
       "      <th></th>\n",
       "      <th></th>\n",
       "      <th></th>\n",
       "      <th></th>\n",
       "      <th></th>\n",
       "      <th></th>\n",
       "      <th></th>\n",
       "      <th></th>\n",
       "      <th></th>\n",
       "      <th></th>\n",
       "      <th></th>\n",
       "    </tr>\n",
       "  </thead>\n",
       "  <tbody>\n",
       "    <tr>\n",
       "      <th>201.166.132.114</th>\n",
       "      <td>-0.311996</td>\n",
       "      <td>-0.151880</td>\n",
       "      <td>-0.126155</td>\n",
       "      <td>-0.072640</td>\n",
       "      <td>-0.178640</td>\n",
       "      <td>0.024080</td>\n",
       "      <td>-0.022133</td>\n",
       "      <td>0.057160</td>\n",
       "      <td>-0.323721</td>\n",
       "      <td>0.022568</td>\n",
       "      <td>...</td>\n",
       "      <td>0.283371</td>\n",
       "      <td>0.126785</td>\n",
       "      <td>0.275466</td>\n",
       "      <td>0.114976</td>\n",
       "      <td>0.073976</td>\n",
       "      <td>-0.138251</td>\n",
       "      <td>0.262670</td>\n",
       "      <td>-0.148449</td>\n",
       "      <td>-0.197116</td>\n",
       "      <td>unknown</td>\n",
       "    </tr>\n",
       "    <tr>\n",
       "      <th>172.245.10.231</th>\n",
       "      <td>-1.256613</td>\n",
       "      <td>-1.317889</td>\n",
       "      <td>-0.910986</td>\n",
       "      <td>-0.773604</td>\n",
       "      <td>-1.041731</td>\n",
       "      <td>0.157510</td>\n",
       "      <td>-0.035242</td>\n",
       "      <td>-0.574435</td>\n",
       "      <td>-0.953921</td>\n",
       "      <td>-0.234043</td>\n",
       "      <td>...</td>\n",
       "      <td>0.120722</td>\n",
       "      <td>0.061658</td>\n",
       "      <td>0.289806</td>\n",
       "      <td>0.052150</td>\n",
       "      <td>0.272534</td>\n",
       "      <td>0.037336</td>\n",
       "      <td>0.426259</td>\n",
       "      <td>-0.294904</td>\n",
       "      <td>0.005054</td>\n",
       "      <td>unknown</td>\n",
       "    </tr>\n",
       "    <tr>\n",
       "      <th>119.237.180.88</th>\n",
       "      <td>-0.090121</td>\n",
       "      <td>-0.085896</td>\n",
       "      <td>0.007295</td>\n",
       "      <td>-0.115396</td>\n",
       "      <td>-0.096167</td>\n",
       "      <td>0.018933</td>\n",
       "      <td>-0.014268</td>\n",
       "      <td>0.004455</td>\n",
       "      <td>-0.023784</td>\n",
       "      <td>0.002346</td>\n",
       "      <td>...</td>\n",
       "      <td>0.032283</td>\n",
       "      <td>0.021382</td>\n",
       "      <td>0.159330</td>\n",
       "      <td>0.020799</td>\n",
       "      <td>0.031832</td>\n",
       "      <td>-0.078330</td>\n",
       "      <td>0.073449</td>\n",
       "      <td>0.004153</td>\n",
       "      <td>-0.060807</td>\n",
       "      <td>unknown</td>\n",
       "    </tr>\n",
       "  </tbody>\n",
       "</table>\n",
       "<p>3 rows × 201 columns</p>\n",
       "</div>"
      ],
      "text/plain": [
       "                        0         1         2         3         4         5  \\\n",
       "ip                                                                            \n",
       "201.166.132.114 -0.311996 -0.151880 -0.126155 -0.072640 -0.178640  0.024080   \n",
       "172.245.10.231  -1.256613 -1.317889 -0.910986 -0.773604 -1.041731  0.157510   \n",
       "119.237.180.88  -0.090121 -0.085896  0.007295 -0.115396 -0.096167  0.018933   \n",
       "\n",
       "                        6         7         8         9  ...       191  \\\n",
       "ip                                                       ...             \n",
       "201.166.132.114 -0.022133  0.057160 -0.323721  0.022568  ...  0.283371   \n",
       "172.245.10.231  -0.035242 -0.574435 -0.953921 -0.234043  ...  0.120722   \n",
       "119.237.180.88  -0.014268  0.004455 -0.023784  0.002346  ...  0.032283   \n",
       "\n",
       "                      192       193       194       195       196       197  \\\n",
       "ip                                                                            \n",
       "201.166.132.114  0.126785  0.275466  0.114976  0.073976 -0.138251  0.262670   \n",
       "172.245.10.231   0.061658  0.289806  0.052150  0.272534  0.037336  0.426259   \n",
       "119.237.180.88   0.021382  0.159330  0.020799  0.031832 -0.078330  0.073449   \n",
       "\n",
       "                      198       199    class  \n",
       "ip                                            \n",
       "201.166.132.114 -0.148449 -0.197116  unknown  \n",
       "172.245.10.231  -0.294904  0.005054  unknown  \n",
       "119.237.180.88   0.004153 -0.060807  unknown  \n",
       "\n",
       "[3 rows x 201 columns]"
      ]
     },
     "execution_count": 8,
     "metadata": {},
     "output_type": "execute_result"
    }
   ],
   "source": [
    "# Load the final model\n",
    "model_path_name = f'word2vec_auto_c5_e200'\n",
    "w2v = Word2Vec(mname=f'{MODELS}/word2vec/{model_path_name}')\n",
    "w2v.load_model()\n",
    "# Retrieve the embeddings\n",
    "embeddings = w2v.get_embeddings(ips, lookup)\n",
    "\n",
    "print(embeddings.shape)\n",
    "embeddings.head(3)"
   ]
  },
  {
   "cell_type": "code",
   "execution_count": 11,
   "id": "alive-castle",
   "metadata": {},
   "outputs": [],
   "source": [
    "if not DEMONSTRATIVE:\n",
    "    X = embeddings.drop(columns=['class'])\n",
    "else:\n",
    "    X = embeddings.iloc[:500].drop(columns=['class'])\n",
    "dist = distances(X, X, metric='cosine')\n",
    "\n",
    "tsne = TSNE(n_components=2, random_state=15, metric='precomputed').fit_transform(dist)\n",
    "df = pd.DataFrame(tsne, columns=['x', 'y'])\n",
    "if not DEMONSTRATIVE:\n",
    "    df.to_csv(f'{DATASETS}/tsne.csv')"
   ]
  },
  {
   "cell_type": "code",
   "execution_count": 12,
   "id": "reverse-numbers",
   "metadata": {},
   "outputs": [
    {
     "data": {
      "text/plain": [
       "<Figure size 640x480 with 0 Axes>"
      ]
     },
     "metadata": {},
     "output_type": "display_data"
    },
    {
     "data": {
      "image/png": "[encoded data removed]",
      "text/plain": [
       "<Figure size 500x350 with 1 Axes>"
      ]
     },
     "metadata": {},
     "output_type": "display_data"
    }
   ],
   "source": [
    "%matplotlib inline\n",
    "plot = fastplot.plot(None,  None, mode = 'callback', callback = lambda plt: densityPlot(plt, df),\n",
    "                      figsize=(5, 3.5), fontsize=14, style='latex')\n",
    "if not DEMONSTRATIVE:\n",
    "    plot.savefig('reports/figures/density_kde.pdf')\n",
    "plot.show()"
   ]
  }
 ],
 "metadata": {
  "kernelspec": {
   "display_name": "Python 3",
   "language": "python",
   "name": "python3"
  },
  "language_info": {
   "codemirror_mode": {
    "name": "ipython",
    "version": 3
   },
   "file_extension": ".py",
   "mimetype": "text/x-python",
   "name": "python",
   "nbconvert_exporter": "python",
   "pygments_lexer": "ipython3",
   "version": "3.6.9 (default, Jun 29 2022, 11:45:57) \n[GCC 8.4.0]"
  },
  "vscode": {
   "interpreter": {
    "hash": "31f2aee4e71d21fbe5cf8b01ff0e069b9275f58929596ceb00d14d90e3e16cd6"
   }
  }
 },
 "nbformat": 4,
 "nbformat_minor": 5
}
