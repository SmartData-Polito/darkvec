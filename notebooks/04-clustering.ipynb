{
 "cells": [
  {
   "cell_type": "markdown",
   "id": "powered-colon",
   "metadata": {},
   "source": [
    "# <b>DarkVec: Automatic Analysis of Darknet Trafficwith Word Embeddings</b>\n",
    "## <b>4) Unsupervised Approach: Clustering</b>  "
   ]
  },
  {
   "cell_type": "markdown",
   "id": "sacred-minute",
   "metadata": {},
   "source": [
    "___\n",
    "\n",
    "## <b>Table of Content</b> <a id=\"toc_\"></a>\n",
    "\n",
    "* [Heuristic for k of k-NN Graph](#kofknnG)  \n",
    "* [Clustering Algorithms Comparison](#algos)  \n",
    "    * [Hierarchical Clustering](#hierarchical)  \n",
    "    * [k-Means](#kmeans)  \n",
    "    * [Spectral Clustering](#spectral)  \n",
    "    * [k-NN Graph](#kmeknnGans)  \n",
    "* [Louvain on k-NN Graph](#results)\n",
    "\n",
    "Notebook description\n",
    "\n",
    "___\n",
    "***Note:*** All the code and data we provide are the ones included in the paper. To speed up the notebook execution, by default we trim the files when reading them. Comments on how to run on complete files are provided in the notebook. Note that running the notebook with the complete dataset requires *a PC with significant amount of memory*. \n",
    "\n",
    "***Note:*** Be aware that these script require a large amount of time for training all models tested in the paper."
   ]
  },
  {
   "cell_type": "code",
   "execution_count": 6,
   "id": "nasty-democrat",
   "metadata": {},
   "outputs": [],
   "source": [
    "DEMONSTRATIVE = False"
   ]
  },
  {
   "cell_type": "code",
   "execution_count": 1,
   "id": "compressed-neighborhood",
   "metadata": {},
   "outputs": [],
   "source": [
    "from config import *\n",
    "from src.word2vec import Word2Vec\n",
    "from src.preprocess import load_raw_data, filter_data\n",
    "from src.knnClassifier import *\n",
    "from src.callbacks import *\n",
    "from src.utils import *\n",
    "import pandas as pd\n",
    "\n",
    "from sklearn.cluster import KMeans\n",
    "from sklearn.cluster import SpectralClustering\n",
    "from sklearn.cluster import AgglomerativeClustering\n",
    "\n",
    "from sklearn import preprocessing"
   ]
  },
  {
   "cell_type": "code",
   "execution_count": 2,
   "id": "prostate-amateur",
   "metadata": {},
   "outputs": [],
   "source": [
    "import matplotlib.pyplot as plt\n",
    "%matplotlib inline\n",
    "import fastplot\n",
    "from cycler import cycler\n",
    "from src.knnGraph import *\n",
    "plt.rcParams[\"font.family\"] = \"serif\"\n",
    "\n",
    "cc = (cycler('color',['k', 'r', 'b', 'g', 'y', 'm', 'c'])+\n",
    "      cycler('linestyle',['-', '--', '-.', ':', '-', '--', '-.']))"
   ]
  },
  {
   "cell_type": "markdown",
   "id": "heavy-promotion",
   "metadata": {},
   "source": [
    "___\n",
    "### <b>Prerequisites</b> <a name=\"trainwindow\"></a>\n",
    "\n"
   ]
  },
  {
   "cell_type": "code",
   "execution_count": 3,
   "id": "committed-wonder",
   "metadata": {},
   "outputs": [
    {
     "name": "stdout",
     "output_type": "stream",
     "text": [
      "(3403919, 6)\n"
     ]
    },
    {
     "data": {
      "text/html": [
       "<div>\n",
       "<style scoped>\n",
       "    .dataframe tbody tr th:only-of-type {\n",
       "        vertical-align: middle;\n",
       "    }\n",
       "\n",
       "    .dataframe tbody tr th {\n",
       "        vertical-align: top;\n",
       "    }\n",
       "\n",
       "    .dataframe thead th {\n",
       "        text-align: right;\n",
       "    }\n",
       "</style>\n",
       "<table border=\"1\" class=\"dataframe\">\n",
       "  <thead>\n",
       "    <tr style=\"text-align: right;\">\n",
       "      <th></th>\n",
       "      <th>ts</th>\n",
       "      <th>ip</th>\n",
       "      <th>port</th>\n",
       "      <th>proto</th>\n",
       "      <th>pck_len</th>\n",
       "      <th>pp</th>\n",
       "    </tr>\n",
       "    <tr>\n",
       "      <th>ts</th>\n",
       "      <th></th>\n",
       "      <th></th>\n",
       "      <th></th>\n",
       "      <th></th>\n",
       "      <th></th>\n",
       "      <th></th>\n",
       "    </tr>\n",
       "  </thead>\n",
       "  <tbody>\n",
       "    <tr>\n",
       "      <th>2021-03-30 22:29:08.691001</th>\n",
       "      <td>2021-03-30 22:29:08.691001</td>\n",
       "      <td>201.166.132.114</td>\n",
       "      <td>1433</td>\n",
       "      <td>tcp</td>\n",
       "      <td>66</td>\n",
       "      <td>1433/tcp</td>\n",
       "    </tr>\n",
       "    <tr>\n",
       "      <th>2021-03-30 22:29:08.691010</th>\n",
       "      <td>2021-03-30 22:29:08.691010</td>\n",
       "      <td>201.166.132.114</td>\n",
       "      <td>1433</td>\n",
       "      <td>tcp</td>\n",
       "      <td>66</td>\n",
       "      <td>1433/tcp</td>\n",
       "    </tr>\n",
       "    <tr>\n",
       "      <th>2021-03-30 22:29:08.811067</th>\n",
       "      <td>2021-03-30 22:29:08.811067</td>\n",
       "      <td>172.245.10.231</td>\n",
       "      <td>3699</td>\n",
       "      <td>tcp</td>\n",
       "      <td>60</td>\n",
       "      <td>3699/tcp</td>\n",
       "    </tr>\n",
       "  </tbody>\n",
       "</table>\n",
       "</div>"
      ],
      "text/plain": [
       "                                                   ts               ip  port  \\\n",
       "ts                                                                             \n",
       "2021-03-30 22:29:08.691001 2021-03-30 22:29:08.691001  201.166.132.114  1433   \n",
       "2021-03-30 22:29:08.691010 2021-03-30 22:29:08.691010  201.166.132.114  1433   \n",
       "2021-03-30 22:29:08.811067 2021-03-30 22:29:08.811067   172.245.10.231  3699   \n",
       "\n",
       "                           proto  pck_len        pp  \n",
       "ts                                                   \n",
       "2021-03-30 22:29:08.691001   tcp       66  1433/tcp  \n",
       "2021-03-30 22:29:08.691010   tcp       66  1433/tcp  \n",
       "2021-03-30 22:29:08.811067   tcp       60  3699/tcp  "
      ]
     },
     "execution_count": 3,
     "metadata": {},
     "output_type": "execute_result"
    }
   ],
   "source": [
    "# Load last day of traffic\n",
    "raw_data = load_raw_data('20210331')\n",
    "filtered = filter_data(raw_data, '20210331')\n",
    "\n",
    "print(filtered.shape)\n",
    "filtered.head(3)"
   ]
  },
  {
   "cell_type": "code",
   "execution_count": 4,
   "id": "indonesian-russell",
   "metadata": {},
   "outputs": [
    {
     "name": "stdout",
     "output_type": "stream",
     "text": [
      "(22399, 2)\n"
     ]
    },
    {
     "data": {
      "text/html": [
       "<div>\n",
       "<style scoped>\n",
       "    .dataframe tbody tr th:only-of-type {\n",
       "        vertical-align: middle;\n",
       "    }\n",
       "\n",
       "    .dataframe tbody tr th {\n",
       "        vertical-align: top;\n",
       "    }\n",
       "\n",
       "    .dataframe thead th {\n",
       "        text-align: right;\n",
       "    }\n",
       "</style>\n",
       "<table border=\"1\" class=\"dataframe\">\n",
       "  <thead>\n",
       "    <tr style=\"text-align: right;\">\n",
       "      <th></th>\n",
       "      <th>ip</th>\n",
       "      <th>class</th>\n",
       "    </tr>\n",
       "  </thead>\n",
       "  <tbody>\n",
       "    <tr>\n",
       "      <th>0</th>\n",
       "      <td>201.166.132.114</td>\n",
       "      <td>unknown</td>\n",
       "    </tr>\n",
       "    <tr>\n",
       "      <th>1</th>\n",
       "      <td>172.245.10.231</td>\n",
       "      <td>unknown</td>\n",
       "    </tr>\n",
       "    <tr>\n",
       "      <th>2</th>\n",
       "      <td>119.237.180.88</td>\n",
       "      <td>unknown</td>\n",
       "    </tr>\n",
       "  </tbody>\n",
       "</table>\n",
       "</div>"
      ],
      "text/plain": [
       "                ip    class\n",
       "0  201.166.132.114  unknown\n",
       "1   172.245.10.231  unknown\n",
       "2   119.237.180.88  unknown"
      ]
     },
     "execution_count": 4,
     "metadata": {},
     "output_type": "execute_result"
    }
   ],
   "source": [
    "# Load the ground truth\n",
    "gt = pd.read_csv(GT).drop(columns=['Unnamed: 0'])\n",
    "ips = filtered.ip.unique()\n",
    "# Get the lookup dataframe to retrieve\n",
    "# the ground truth class of the last day senders\n",
    "lookup = pd.DataFrame(ips, columns=['ip'])\\\n",
    "           .merge(gt, on='ip', how='left')\\\n",
    "           .fillna('unknown').replace({ 'criminalip':'unknown', \n",
    "                'adscore':'unknown', 'quadmetrics':'unknown', \n",
    "                'esrg_stanford':'unknown', 'netscout':'unknown'})\n",
    "\n",
    "print(lookup.shape)\n",
    "lookup.head(3)"
   ]
  },
  {
   "cell_type": "code",
   "execution_count": 5,
   "id": "demonstrated-guard",
   "metadata": {},
   "outputs": [
    {
     "name": "stdout",
     "output_type": "stream",
     "text": [
      "(22399, 201)\n"
     ]
    },
    {
     "data": {
      "text/html": [
       "<div>\n",
       "<style scoped>\n",
       "    .dataframe tbody tr th:only-of-type {\n",
       "        vertical-align: middle;\n",
       "    }\n",
       "\n",
       "    .dataframe tbody tr th {\n",
       "        vertical-align: top;\n",
       "    }\n",
       "\n",
       "    .dataframe thead th {\n",
       "        text-align: right;\n",
       "    }\n",
       "</style>\n",
       "<table border=\"1\" class=\"dataframe\">\n",
       "  <thead>\n",
       "    <tr style=\"text-align: right;\">\n",
       "      <th></th>\n",
       "      <th>0</th>\n",
       "      <th>1</th>\n",
       "      <th>2</th>\n",
       "      <th>3</th>\n",
       "      <th>4</th>\n",
       "      <th>5</th>\n",
       "      <th>6</th>\n",
       "      <th>7</th>\n",
       "      <th>8</th>\n",
       "      <th>9</th>\n",
       "      <th>...</th>\n",
       "      <th>191</th>\n",
       "      <th>192</th>\n",
       "      <th>193</th>\n",
       "      <th>194</th>\n",
       "      <th>195</th>\n",
       "      <th>196</th>\n",
       "      <th>197</th>\n",
       "      <th>198</th>\n",
       "      <th>199</th>\n",
       "      <th>class</th>\n",
       "    </tr>\n",
       "    <tr>\n",
       "      <th>ip</th>\n",
       "      <th></th>\n",
       "      <th></th>\n",
       "      <th></th>\n",
       "      <th></th>\n",
       "      <th></th>\n",
       "      <th></th>\n",
       "      <th></th>\n",
       "      <th></th>\n",
       "      <th></th>\n",
       "      <th></th>\n",
       "      <th></th>\n",
       "      <th></th>\n",
       "      <th></th>\n",
       "      <th></th>\n",
       "      <th></th>\n",
       "      <th></th>\n",
       "      <th></th>\n",
       "      <th></th>\n",
       "      <th></th>\n",
       "      <th></th>\n",
       "      <th></th>\n",
       "    </tr>\n",
       "  </thead>\n",
       "  <tbody>\n",
       "    <tr>\n",
       "      <th>201.166.132.114</th>\n",
       "      <td>-0.311996</td>\n",
       "      <td>-0.151880</td>\n",
       "      <td>-0.126155</td>\n",
       "      <td>-0.072640</td>\n",
       "      <td>-0.178640</td>\n",
       "      <td>0.024080</td>\n",
       "      <td>-0.022133</td>\n",
       "      <td>0.057160</td>\n",
       "      <td>-0.323721</td>\n",
       "      <td>0.022568</td>\n",
       "      <td>...</td>\n",
       "      <td>0.283371</td>\n",
       "      <td>0.126785</td>\n",
       "      <td>0.275466</td>\n",
       "      <td>0.114976</td>\n",
       "      <td>0.073976</td>\n",
       "      <td>-0.138251</td>\n",
       "      <td>0.262670</td>\n",
       "      <td>-0.148449</td>\n",
       "      <td>-0.197116</td>\n",
       "      <td>unknown</td>\n",
       "    </tr>\n",
       "    <tr>\n",
       "      <th>172.245.10.231</th>\n",
       "      <td>-1.256613</td>\n",
       "      <td>-1.317889</td>\n",
       "      <td>-0.910986</td>\n",
       "      <td>-0.773604</td>\n",
       "      <td>-1.041731</td>\n",
       "      <td>0.157510</td>\n",
       "      <td>-0.035242</td>\n",
       "      <td>-0.574435</td>\n",
       "      <td>-0.953921</td>\n",
       "      <td>-0.234043</td>\n",
       "      <td>...</td>\n",
       "      <td>0.120722</td>\n",
       "      <td>0.061658</td>\n",
       "      <td>0.289806</td>\n",
       "      <td>0.052150</td>\n",
       "      <td>0.272534</td>\n",
       "      <td>0.037336</td>\n",
       "      <td>0.426259</td>\n",
       "      <td>-0.294904</td>\n",
       "      <td>0.005054</td>\n",
       "      <td>unknown</td>\n",
       "    </tr>\n",
       "    <tr>\n",
       "      <th>119.237.180.88</th>\n",
       "      <td>-0.090121</td>\n",
       "      <td>-0.085896</td>\n",
       "      <td>0.007295</td>\n",
       "      <td>-0.115396</td>\n",
       "      <td>-0.096167</td>\n",
       "      <td>0.018933</td>\n",
       "      <td>-0.014268</td>\n",
       "      <td>0.004455</td>\n",
       "      <td>-0.023784</td>\n",
       "      <td>0.002346</td>\n",
       "      <td>...</td>\n",
       "      <td>0.032283</td>\n",
       "      <td>0.021382</td>\n",
       "      <td>0.159330</td>\n",
       "      <td>0.020799</td>\n",
       "      <td>0.031832</td>\n",
       "      <td>-0.078330</td>\n",
       "      <td>0.073449</td>\n",
       "      <td>0.004153</td>\n",
       "      <td>-0.060807</td>\n",
       "      <td>unknown</td>\n",
       "    </tr>\n",
       "  </tbody>\n",
       "</table>\n",
       "<p>3 rows × 201 columns</p>\n",
       "</div>"
      ],
      "text/plain": [
       "                        0         1         2         3         4         5  \\\n",
       "ip                                                                            \n",
       "201.166.132.114 -0.311996 -0.151880 -0.126155 -0.072640 -0.178640  0.024080   \n",
       "172.245.10.231  -1.256613 -1.317889 -0.910986 -0.773604 -1.041731  0.157510   \n",
       "119.237.180.88  -0.090121 -0.085896  0.007295 -0.115396 -0.096167  0.018933   \n",
       "\n",
       "                        6         7         8         9  ...       191  \\\n",
       "ip                                                       ...             \n",
       "201.166.132.114 -0.022133  0.057160 -0.323721  0.022568  ...  0.283371   \n",
       "172.245.10.231  -0.035242 -0.574435 -0.953921 -0.234043  ...  0.120722   \n",
       "119.237.180.88  -0.014268  0.004455 -0.023784  0.002346  ...  0.032283   \n",
       "\n",
       "                      192       193       194       195       196       197  \\\n",
       "ip                                                                            \n",
       "201.166.132.114  0.126785  0.275466  0.114976  0.073976 -0.138251  0.262670   \n",
       "172.245.10.231   0.061658  0.289806  0.052150  0.272534  0.037336  0.426259   \n",
       "119.237.180.88   0.021382  0.159330  0.020799  0.031832 -0.078330  0.073449   \n",
       "\n",
       "                      198       199    class  \n",
       "ip                                            \n",
       "201.166.132.114 -0.148449 -0.197116  unknown  \n",
       "172.245.10.231  -0.294904  0.005054  unknown  \n",
       "119.237.180.88   0.004153 -0.060807  unknown  \n",
       "\n",
       "[3 rows x 201 columns]"
      ]
     },
     "execution_count": 5,
     "metadata": {},
     "output_type": "execute_result"
    }
   ],
   "source": [
    "model_path_name = f'word2vec_auto_c5_e200'\n",
    "w2v = Word2Vec(mname=f'{MODELS}/word2vec/{model_path_name}')\n",
    "w2v.load_model()\n",
    "embeddings = w2v.get_embeddings(ips, lookup)\n",
    "\n",
    "print(embeddings.shape)\n",
    "embeddings.head(3)"
   ]
  },
  {
   "cell_type": "markdown",
   "id": "aging-currency",
   "metadata": {},
   "source": [
    "___\n",
    "### <b>Heuristic for k of k-NN Graph</b> <a name=\"kofknnG\"></a>\n",
    "\n"
   ]
  },
  {
   "cell_type": "code",
   "execution_count": 7,
   "id": "backed-isaac",
   "metadata": {},
   "outputs": [
    {
     "name": "stdout",
     "output_type": "stream",
     "text": [
      "Running k: 1\n",
      "Running k: 2\n",
      "Number of clusters for the first 2 tested k: [98, 30]\n",
      "Modularity of clusters for the first 2 tested k: [0.9817961218081638, 0.9152939197372963]\n"
     ]
    }
   ],
   "source": [
    "mods_linear, ncs_linear = ([], [])\n",
    "if not DEMONSTRATIVE: ks = range(1,15)\n",
    "else: ks = range(1,3)\n",
    "for kk in ks:\n",
    "    print(f'Running k: {kk}')\n",
    "    if not DEMONSTRATIVE:\n",
    "        knn = KnnGraph(exp_id=f'graph_heuristic', day='20210331', graph_gen=True, k=kk, \n",
    "                     embeddings=embeddings.drop(columns=['class']), ips=embeddings.index, \n",
    "                     labels=embeddings['class'].values)\n",
    "    else:\n",
    "        knn = KnnGraph(exp_id=f'graph_heuristic', day='20210331', graph_gen=True, k=kk, \n",
    "                     embeddings=embeddings.iloc[:500].drop(columns=['class']), ips=embeddings.iloc[:500].index, \n",
    "                     labels=embeddings.iloc[:500]['class'].values)\n",
    "    knn.fit_predict()\n",
    "    mods_linear.append(knn.mod)\n",
    "    ncs_linear.append(knn.nc)\n",
    "if not DEMONSTRATIVE:\n",
    "    with open(f'{DATASETS}/knngraph_linear.json', 'w') as file:\n",
    "        file.write(json.dumps({'ncs':ncs_linear, 'mods':mods_linear}))\n",
    "print(f'Number of clusters for the first 2 tested k: {ncs_linear}')\n",
    "print(f'Modularity of clusters for the first 2 tested k: {mods_linear}')"
   ]
  },
  {
   "cell_type": "code",
   "execution_count": 8,
   "id": "copyrighted-proof",
   "metadata": {},
   "outputs": [
    {
     "data": {
      "text/plain": [
       "<Figure size 640x480 with 0 Axes>"
      ]
     },
     "metadata": {},
     "output_type": "display_data"
    },
    {
     "data": {
      "image/png": "[encoded data removed]",
      "text/plain": [
       "<Figure size 500x350 with 2 Axes>"
      ]
     },
     "metadata": {},
     "output_type": "display_data"
    }
   ],
   "source": [
    "with open(f'{DATASETS}/knngraph_linear.json', 'r') as file:\n",
    "    obj = json.loads(file.read())\n",
    "ncs = obj['ncs']\n",
    "mods = obj['mods']\n",
    "\n",
    "%matplotlib inline\n",
    "plot = fastplot.plot(None,  None, mode = 'callback', callback = lambda plt: plotKnnGraphHeuristic(plt, ncs, mods),\n",
    "                      figsize=(5, 3.5), fontsize=14, style='latex')\n",
    "if not DEMONSTRATIVE:\n",
    "    plot.savefig('reports/figures/Gheuristic.pdf')\n",
    "plot.show()"
   ]
  },
  {
   "cell_type": "markdown",
   "id": "imposed-drain",
   "metadata": {},
   "source": [
    "___\n",
    "### <b>Clustering Algorithms Comparison</b> <a name=\"algos\"></a>\n",
    "\n"
   ]
  },
  {
   "cell_type": "markdown",
   "id": "scenic-turning",
   "metadata": {},
   "source": [
    "___\n",
    "#### <b>k-NN Graph</b> <a name=\"knnG\"></a>\n",
    "\n"
   ]
  },
  {
   "cell_type": "code",
   "execution_count": null,
   "id": "outdoor-spanish",
   "metadata": {},
   "outputs": [],
   "source": [
    "if not DEMONSTRATIVE:\n",
    "    knn = KnnGraph(exp_id=f'knnGraph', day='20210331', graph_gen=True, k=3, \n",
    "                     embeddings=embeddings.drop(columns=['class']), ips=embeddings.index, \n",
    "                     labels=embeddings['class'].values)\n",
    "    knn.fit_predict()#f'{GRAPHS}/knnGraph')\n",
    "else:\n",
    "    knn = KnnGraph(exp_id=f'knnGraph', day='20210331', graph_gen=True, k=3, \n",
    "                     embeddings=embeddings.iloc[:500].drop(columns=['class']), ips=embeddings.iloc[:500].index, \n",
    "                     labels=embeddings.iloc[:500]['class'].values)\n",
    "    knn.fit_predict()\n",
    "mod = knn.mod\n",
    "n_clusters = knn.nc\n",
    "knn_ecdf = get_sh_clustering(knn, embeddings)"
   ]
  },
  {
   "cell_type": "markdown",
   "id": "necessary-ghost",
   "metadata": {},
   "source": [
    "___\n",
    "#### <b>k-Means</b> <a name=\"kmeans\"></a>\n",
    "\n"
   ]
  },
  {
   "cell_type": "code",
   "execution_count": null,
   "id": "animal-coast",
   "metadata": {},
   "outputs": [],
   "source": [
    "if not DEMONSTRATIVE:\n",
    "    X = embeddings.drop(columns=['class'])\n",
    "else:\n",
    "    X = embeddings.iloc[:500].drop(columns=['class'])\n",
    "kmeans = KMeans(n_clusters=n_clusters, random_state=15)\n",
    "ypred = kmeans.fit_predict(preprocessing.normalize(X))\n",
    "_kmean = {'clusters':{k:v for k,v in zip(embeddings.index, ypred)}}\n",
    "kmeans_ecdf = get_sh_clustering(_kmean, embeddings)\n",
    "\n",
    "kmeans = KMeans(n_clusters=12, random_state=15)\n",
    "ypred = kmeans.fit_predict(preprocessing.normalize(X))\n",
    "_kmean = {'clusters':{k:v for k,v in zip(embeddings.index, ypred)}}\n",
    "kmeans_ecdf0 = get_sh_clustering(_kmean, embeddings)"
   ]
  },
  {
   "cell_type": "markdown",
   "id": "specified-constitutional",
   "metadata": {},
   "source": [
    "___\n",
    "#### <b>Spectral Clustering</b> <a name=\"spectral\"></a>\n",
    "\n"
   ]
  },
  {
   "cell_type": "raw",
   "id": "italic-playback",
   "metadata": {},
   "source": [
    "if not DEMONSTRATIVE:\n",
    "    X = embeddings.drop(columns=['class'])\n",
    "else:\n",
    "    X = embeddings.iloc[:500].drop(columns=['class'])\n",
    "spectral = SpectralClustering(n_clusters=n_clusters, random_state=15, affinity='rbf', n_jobs=-1)\n",
    "ypred = spectral.fit_predict(preprocessing.normalize(X))\n",
    "_spectral = {'clusters':{k:v for k,v in zip(embeddings.index, ypred)}}"
   ]
  },
  {
   "cell_type": "markdown",
   "id": "minimal-height",
   "metadata": {},
   "source": [
    "___\n",
    "#### <b>Hierarchical Clustering</b> <a name=\"hierarchical\"></a>\n",
    "\n"
   ]
  },
  {
   "cell_type": "code",
   "execution_count": null,
   "id": "typical-isaac",
   "metadata": {},
   "outputs": [],
   "source": [
    "if not DEMONSTRATIVE:\n",
    "    X = embeddings.drop(columns=['class'])\n",
    "else:\n",
    "    X = embeddings.iloc[:500].drop(columns=['class'])\n",
    "\n",
    "hierarchical = AgglomerativeClustering(n_clusters=n_clusters)\n",
    "ypred = hierarchical.fit_predict(preprocessing.normalize(X))\n",
    "_hierarchical = {'clusters':{k:v for k,v in zip(embeddings.index, ypred)}}\n",
    "hierarchical_ecdf = get_sh_clustering(_hierarchical, embeddings)\n",
    "\n",
    "hierarchical = AgglomerativeClustering(n_clusters=3)\n",
    "ypred = hierarchical.fit_predict(preprocessing.normalize(X))\n",
    "_hierarchical = {'clusters':{k:v for k,v in zip(embeddings.index, ypred)}}\n",
    "hierarchical_ecdf0 = get_sh_clustering(_hierarchical, embeddings)"
   ]
  },
  {
   "cell_type": "code",
   "execution_count": 28,
   "id": "operating-stuart",
   "metadata": {},
   "outputs": [
    {
     "data": {
      "text/plain": [
       "<Figure size 640x480 with 0 Axes>"
      ]
     },
     "metadata": {},
     "output_type": "display_data"
    },
    {
     "data": {
      "image/png": "[encoded data removed]",
      "text/plain": [
       "<Figure size 500x350 with 1 Axes>"
      ]
     },
     "metadata": {},
     "output_type": "display_data"
    }
   ],
   "source": [
    "def sh_sources(plt, knn_ecdf, kmeans_ecdf, hierarchical_ecdf):\n",
    "    plt.plot(knn_ecdf.sh, knn_ecdf.coverage, color='k', label='3-NN Graph')\n",
    "    \n",
    "    plt.plot(kmeans_ecdf.sh, kmeans_ecdf.coverage, color='r', label='kMeans')\n",
    "    plt.plot(hierarchical_ecdf.sh, hierarchical_ecdf.coverage, color='b', label='Hierarchical')\n",
    "\n",
    "    plt.xlabel('Silhouette')\n",
    "    plt.ylabel('Sources ECDF')\n",
    "    plt.legend()\n",
    "    plt.grid(linestyle='-.')\n",
    "    plt.xlim(-1, 1.3)\n",
    "\n",
    "#plot = fastplot.plot(None,  None, mode = 'callback', callback = lambda plt: sh_sources(plt, knn_ecdf, kmeans_ecdf, spectral_ecdf, hierarchical_ecdf),\n",
    "#                      figsize=(5, 3.5), fontsize=14, style='latex')\n",
    "plot = fastplot.plot(None,  None, mode = 'callback', callback = lambda plt: sh_sources(plt, knn_ecdf, kmeans_ecdf, \n",
    "                                                                                       hierarchical_ecdf),\n",
    "                     figsize=(5, 3.5), fontsize=14, style='latex')\n",
    "if not DEMONSTRATIVE:\n",
    "    plot.savefig('reports/figures/sh_sources_clustering.pdf')\n",
    "    pass\n",
    "plot.show()"
   ]
  },
  {
   "cell_type": "code",
   "execution_count": 27,
   "id": "massive-utilization",
   "metadata": {},
   "outputs": [
    {
     "data": {
      "text/plain": [
       "<Figure size 640x480 with 0 Axes>"
      ]
     },
     "metadata": {},
     "output_type": "display_data"
    },
    {
     "data": {
      "image/png": "[encoded data removed]",
      "text/plain": [
       "<Figure size 500x350 with 1 Axes>"
      ]
     },
     "metadata": {},
     "output_type": "display_data"
    }
   ],
   "source": [
    "def sh_sources(plt, knn_ecdf, kmeans_ecdf, hierarchical_ecdf):\n",
    "    plt.plot(knn_ecdf.sh, knn_ecdf.coverage, color='k', label='Louvain')\n",
    "    \n",
    "    plt.plot(kmeans_ecdf.sh, kmeans_ecdf.coverage, color='r', label='kMeans')\n",
    "    plt.plot(hierarchical_ecdf.sh, hierarchical_ecdf.coverage, color='b', label='Hierarchical')\n",
    "\n",
    "    plt.xlabel('Silhouette')\n",
    "    plt.ylabel('Sources ECDF')\n",
    "    plt.legend()\n",
    "    plt.grid(linestyle='-.')\n",
    "    plt.xlim(-1, 1.3)\n",
    "\n",
    "#plot = fastplot.plot(None,  None, mode = 'callback', callback = lambda plt: sh_sources(plt, knn_ecdf, kmeans_ecdf, spectral_ecdf, hierarchical_ecdf),\n",
    "#                      figsize=(5, 3.5), fontsize=14, style='latex')\n",
    "plot = fastplot.plot(None,  None, mode = 'callback', callback = lambda plt: sh_sources(plt, knn_ecdf, kmeans_ecdf0, \n",
    "                                                                                       hierarchical_ecdf0),\n",
    "                     figsize=(5, 3.5), fontsize=14, style='latex')\n",
    "#if not DEMONSTRATIVE:\n",
    "#    plot.savefig('reports/figures/sh_sources_clustering_heur.pdf')\n",
    "#plot.show()"
   ]
  },
  {
   "cell_type": "code",
   "execution_count": 5,
   "id": "stopped-freeze",
   "metadata": {},
   "outputs": [],
   "source": [
    "import fastplot\n",
    "\n",
    "def sh_sources(plt):\n",
    "    plt.plot([], color='k', label='Louvain')\n",
    "    \n",
    "    plt.xlabel('Silhouette')\n",
    "    plt.ylabel('Sources ECDF')\n",
    "    plt.legend()\n",
    "    plt.grid(linestyle='-.')\n",
    "    plt.xlim(-1, 1.3)\n",
    "    \n",
    "%matplotlib inline\n",
    "#plot = fastplot.plot(None,  None, mode = 'callback', callback = lambda plt: sh_sources(plt, knn_ecdf, kmeans_ecdf, spectral_ecdf, hierarchical_ecdf),\n",
    "#                      figsize=(5, 3.5), fontsize=14, style='latex')\n",
    "plot = fastplot.plot(None,  None, mode = 'callback', callback = lambda plt: sh_sources(plt),\n",
    "                     figsize=(5, 3.5), fontsize=14, style='latex')\n",
    "#if not DEMONSTRATIVE:\n",
    "plot.savefig('tmp.pdf')"
   ]
  },
  {
   "cell_type": "code",
   "execution_count": 41,
   "id": "desperate-phoenix",
   "metadata": {},
   "outputs": [],
   "source": [
    "sh_df = get_shs_df(knn, embeddings)\n",
    "scatters = sh_df.reset_index().groupby('C').agg({'ip':'count', 'sh':'mean'})"
   ]
  },
  {
   "cell_type": "code",
   "execution_count": 50,
   "id": "vulnerable-facility",
   "metadata": {},
   "outputs": [
    {
     "data": {
      "text/plain": [
       "ip         14.000000\n",
       "sh          0.669226\n",
       "ip_perc     0.062503\n",
       "Name: 30, dtype: float64"
      ]
     },
     "execution_count": 50,
     "metadata": {},
     "output_type": "execute_result"
    }
   ],
   "source": [
    "scatters['ip_perc'] = 100*scatters.ip / scatters.sum().ip"
   ]
  },
  {
   "cell_type": "code",
   "execution_count": 54,
   "id": "vietnamese-mozambique",
   "metadata": {},
   "outputs": [
    {
     "data": {
      "text/plain": [
       "<Figure size 640x480 with 0 Axes>"
      ]
     },
     "metadata": {},
     "output_type": "display_data"
    },
    {
     "data": {
      "image/png": "[encoded data removed]",
      "text/plain": [
       "<Figure size 500x350 with 1 Axes>"
      ]
     },
     "metadata": {},
     "output_type": "display_data"
    }
   ],
   "source": [
    "def scatterplot_sh(plt, scatters):\n",
    "    censys = [7, 16, 20, 48, 52, 55, 60]\n",
    "    shadowserver = [3, 10, 12, 32, 34, 50, 63, 64, 65, 66, 68, 69]\n",
    "    mirai = [39, 45, 36]\n",
    "    unknown = [59, 30]\n",
    "    \n",
    "    cm = plt.cm.get_cmap('cool')\n",
    "    xy = np.arange(-1, 1, .1)\n",
    "    plt.scatter(scatters.ip_perc, scatters.sh, s=8-5, color='k')\n",
    "    temp = scatters.loc[censys]\n",
    "    plt.scatter(temp.ip_perc, temp.sh, marker='o', s=30-10, alpha=1, color='r', label = 'Censys')\n",
    "    temp = scatters.loc[shadowserver]\n",
    "    plt.scatter(temp.ip_perc, temp.sh, marker='s', s=30-10, alpha=1, color='g', label= 'Shadowserver')\n",
    "    temp = scatters.loc[mirai]\n",
    "    plt.scatter(temp.ip_perc, temp.sh, marker='^', s=30-10, alpha=1, color='b', label= 'Mirai-like')\n",
    "    temp = scatters.loc[[unknown[0]]]\n",
    "    plt.scatter(temp.ip_perc, temp.sh, marker='*', s=100-10, alpha=1, color='orange', label='C59')\n",
    "    temp = scatters.loc[[unknown[1]]]\n",
    "    plt.scatter(temp.ip_perc, temp.sh, marker='X', s=80-10, alpha=1, color='y', label='C30')\n",
    "    plt.legend(ncol=2)\n",
    "    \n",
    "    plt.xlabel('Senders per cluster [\\%]')\n",
    "    plt.ylabel('Avg. $Sh$ per cluster')\n",
    "    plt.xscale('log')\n",
    "    #plt.yscale('log')\n",
    "    plt.hlines(0, 1e-2, 1e2, color='k', linestyle='--')\n",
    "    plt.grid(linestyle='-.')\n",
    "    plt.xlim(1e-2, 1.1e1)\n",
    "    plt.ylim(-1.4)\n",
    "    plt.yticks([-1, -.5, .0, .5, 1])\n",
    "\n",
    "%matplotlib inline   \n",
    "plot = fastplot.plot(None,  None, mode = 'callback', callback = lambda plt: scatterplot_sh(plt, scatters),\n",
    "                      figsize=(5, 3.5), fontsize=14, style='latex')\n",
    "if not DEMONSTRATIVE:\n",
    "    plot.savefig('reports/figures/silhouette_scatter.pdf')\n",
    "plot.show()"
   ]
  },
  {
   "cell_type": "code",
   "execution_count": 55,
   "id": "experienced-seventh",
   "metadata": {},
   "outputs": [],
   "source": [
    "sh_df = get_shs_df(knn, embeddings)\n",
    "sh_df = sh_df.groupby('C').agg({'sh':'mean'})\n",
    "sh_df = sh_df.reset_index().sort_values('sh', ascending=False)\\\n",
    "             .reset_index().drop(columns=['index'])"
   ]
  },
  {
   "cell_type": "code",
   "execution_count": 62,
   "id": "respiratory-matrix",
   "metadata": {},
   "outputs": [],
   "source": [
    "def shplot_(plt, sh_df):\n",
    "    censys = [7, 16, 20, 48, 52, 55, 60]\n",
    "    shadowserver = [3, 10, 12, 32, 34, 50, 63, 64, 65, 66, 68, 69]\n",
    "    mirai = [39, 45, 36]\n",
    "    unknown = [59, 30]\n",
    "    plt.plot(sh_df.index, sh_df.sh, color='k')\n",
    "    temp = sh_df[sh_df.C.isin(censys)]\n",
    "    plt.scatter(temp.index, temp.sh, marker='o', s=30, alpha=1, color='r', label = 'Censys')\n",
    "    temp = sh_df[sh_df.C.isin(shadowserver)]\n",
    "    plt.scatter(temp.index, temp.sh, marker='s', s=30, alpha=1, color='g', label= 'Shadowserver')\n",
    "    temp = sh_df[sh_df.C.isin(mirai)]\n",
    "    plt.scatter(temp.index, temp.sh, marker='^', s=30, alpha=1, color='b', label= 'Mirai-like')\n",
    "    temp = sh_df[sh_df.C.isin([unknown[0]])]\n",
    "    plt.scatter(temp.index, temp.sh, marker='*', s=100, alpha=1, color='orange', label='C59')\n",
    "    temp = sh_df[sh_df.C.isin([unknown[1]])]\n",
    "    plt.scatter(temp.index, temp.sh, marker='X', s=80, alpha=1, color='y', label='C30')\n",
    "    plt.legend(ncol=2)\n",
    "    \n",
    "    plt.xticks([0, 19, 39, 59], [1, 20, 40, 60])\n",
    "    \n",
    "    plt.hlines(0, 0, 70, linestyle='--', color='k')\n",
    "    plt.xlabel('Cluster rank')\n",
    "    plt.ylabel('Avg. Silhouette')\n",
    "    plt.grid(linestyle='--')\n",
    "    plt.ylim(-1.1, 1)\n",
    "    plt.xlim(0,70)"
   ]
  },
  {
   "cell_type": "code",
   "execution_count": 63,
   "id": "greater-adult",
   "metadata": {},
   "outputs": [
    {
     "data": {
      "text/plain": [
       "<Figure size 640x480 with 0 Axes>"
      ]
     },
     "metadata": {},
     "output_type": "display_data"
    },
    {
     "data": {
      "image/png": "[encoded data removed]",
      "text/plain": [
       "<Figure size 500x350 with 1 Axes>"
      ]
     },
     "metadata": {},
     "output_type": "display_data"
    }
   ],
   "source": [
    "cmap = plt.cm.rainbow(np.linspace(0, 1, 5))\n",
    "\n",
    "%matplotlib inline\n",
    "plot = fastplot.plot(None,  None, mode = 'callback', callback = lambda plt: shplot_(plt, sh_df),\n",
    "                      figsize=(5, 3.5), fontsize=14, style='latex', cycler=cycler('color', cmap))\n",
    "if not DEMONSTRATIVE:\n",
    "    plot.savefig('reports/figures/sh_plot.pdf')\n",
    "plot.show()"
   ]
  },
  {
   "cell_type": "code",
   "execution_count": 19,
   "id": "palestinian-caution",
   "metadata": {},
   "outputs": [],
   "source": [
    "if not DEMONSTRATIVE:\n",
    "    sh_df = get_shs_df(knn, embeddings)\n",
    "    sh_df.to_csv(f'{DATASETS}/clusters.csv')"
   ]
  },
  {
   "cell_type": "code",
   "execution_count": null,
   "id": "opened-hungarian",
   "metadata": {},
   "outputs": [],
   "source": []
  },
  {
   "cell_type": "code",
   "execution_count": null,
   "id": "closed-outside",
   "metadata": {},
   "outputs": [],
   "source": []
  },
  {
   "cell_type": "code",
   "execution_count": null,
   "id": "alien-kingdom",
   "metadata": {},
   "outputs": [],
   "source": []
  },
  {
   "cell_type": "code",
   "execution_count": null,
   "id": "referenced-monster",
   "metadata": {},
   "outputs": [],
   "source": []
  },
  {
   "cell_type": "code",
   "execution_count": null,
   "id": "graphic-cornell",
   "metadata": {},
   "outputs": [],
   "source": []
  },
  {
   "cell_type": "code",
   "execution_count": null,
   "id": "sealed-sweet",
   "metadata": {},
   "outputs": [],
   "source": []
  },
  {
   "cell_type": "code",
   "execution_count": null,
   "id": "polished-investigation",
   "metadata": {},
   "outputs": [],
   "source": []
  },
  {
   "cell_type": "code",
   "execution_count": 4,
   "id": "honest-tuning",
   "metadata": {},
   "outputs": [],
   "source": [
    "from sklearn.cluster import KMeans\n",
    "import kneed"
   ]
  },
  {
   "cell_type": "code",
   "execution_count": 5,
   "id": "expressed-prototype",
   "metadata": {},
   "outputs": [
    {
     "name": "stdout",
     "output_type": "stream",
     "text": [
      "(3403919, 6)\n"
     ]
    },
    {
     "data": {
      "text/html": [
       "<div>\n",
       "<style scoped>\n",
       "    .dataframe tbody tr th:only-of-type {\n",
       "        vertical-align: middle;\n",
       "    }\n",
       "\n",
       "    .dataframe tbody tr th {\n",
       "        vertical-align: top;\n",
       "    }\n",
       "\n",
       "    .dataframe thead th {\n",
       "        text-align: right;\n",
       "    }\n",
       "</style>\n",
       "<table border=\"1\" class=\"dataframe\">\n",
       "  <thead>\n",
       "    <tr style=\"text-align: right;\">\n",
       "      <th></th>\n",
       "      <th>ts</th>\n",
       "      <th>ip</th>\n",
       "      <th>port</th>\n",
       "      <th>proto</th>\n",
       "      <th>pck_len</th>\n",
       "      <th>pp</th>\n",
       "    </tr>\n",
       "    <tr>\n",
       "      <th>ts</th>\n",
       "      <th></th>\n",
       "      <th></th>\n",
       "      <th></th>\n",
       "      <th></th>\n",
       "      <th></th>\n",
       "      <th></th>\n",
       "    </tr>\n",
       "  </thead>\n",
       "  <tbody>\n",
       "    <tr>\n",
       "      <th>2021-03-30 22:29:08.691001</th>\n",
       "      <td>2021-03-30 22:29:08.691001</td>\n",
       "      <td>201.166.132.114</td>\n",
       "      <td>1433</td>\n",
       "      <td>tcp</td>\n",
       "      <td>66</td>\n",
       "      <td>1433/tcp</td>\n",
       "    </tr>\n",
       "    <tr>\n",
       "      <th>2021-03-30 22:29:08.691010</th>\n",
       "      <td>2021-03-30 22:29:08.691010</td>\n",
       "      <td>201.166.132.114</td>\n",
       "      <td>1433</td>\n",
       "      <td>tcp</td>\n",
       "      <td>66</td>\n",
       "      <td>1433/tcp</td>\n",
       "    </tr>\n",
       "    <tr>\n",
       "      <th>2021-03-30 22:29:08.811067</th>\n",
       "      <td>2021-03-30 22:29:08.811067</td>\n",
       "      <td>172.245.10.231</td>\n",
       "      <td>3699</td>\n",
       "      <td>tcp</td>\n",
       "      <td>60</td>\n",
       "      <td>3699/tcp</td>\n",
       "    </tr>\n",
       "  </tbody>\n",
       "</table>\n",
       "</div>"
      ],
      "text/plain": [
       "                                                   ts               ip  port  \\\n",
       "ts                                                                             \n",
       "2021-03-30 22:29:08.691001 2021-03-30 22:29:08.691001  201.166.132.114  1433   \n",
       "2021-03-30 22:29:08.691010 2021-03-30 22:29:08.691010  201.166.132.114  1433   \n",
       "2021-03-30 22:29:08.811067 2021-03-30 22:29:08.811067   172.245.10.231  3699   \n",
       "\n",
       "                           proto  pck_len        pp  \n",
       "ts                                                   \n",
       "2021-03-30 22:29:08.691001   tcp       66  1433/tcp  \n",
       "2021-03-30 22:29:08.691010   tcp       66  1433/tcp  \n",
       "2021-03-30 22:29:08.811067   tcp       60  3699/tcp  "
      ]
     },
     "execution_count": 5,
     "metadata": {},
     "output_type": "execute_result"
    }
   ],
   "source": [
    "# Load last day of traffic\n",
    "raw_data = load_raw_data('20210331')\n",
    "filtered = filter_data(raw_data, '20210331')\n",
    "\n",
    "print(filtered.shape)\n",
    "filtered.head(3)"
   ]
  },
  {
   "cell_type": "code",
   "execution_count": 6,
   "id": "fuzzy-consideration",
   "metadata": {},
   "outputs": [
    {
     "name": "stdout",
     "output_type": "stream",
     "text": [
      "(22399, 2)\n"
     ]
    },
    {
     "data": {
      "text/html": [
       "<div>\n",
       "<style scoped>\n",
       "    .dataframe tbody tr th:only-of-type {\n",
       "        vertical-align: middle;\n",
       "    }\n",
       "\n",
       "    .dataframe tbody tr th {\n",
       "        vertical-align: top;\n",
       "    }\n",
       "\n",
       "    .dataframe thead th {\n",
       "        text-align: right;\n",
       "    }\n",
       "</style>\n",
       "<table border=\"1\" class=\"dataframe\">\n",
       "  <thead>\n",
       "    <tr style=\"text-align: right;\">\n",
       "      <th></th>\n",
       "      <th>ip</th>\n",
       "      <th>class</th>\n",
       "    </tr>\n",
       "  </thead>\n",
       "  <tbody>\n",
       "    <tr>\n",
       "      <th>0</th>\n",
       "      <td>201.166.132.114</td>\n",
       "      <td>unknown</td>\n",
       "    </tr>\n",
       "    <tr>\n",
       "      <th>1</th>\n",
       "      <td>172.245.10.231</td>\n",
       "      <td>unknown</td>\n",
       "    </tr>\n",
       "    <tr>\n",
       "      <th>2</th>\n",
       "      <td>119.237.180.88</td>\n",
       "      <td>unknown</td>\n",
       "    </tr>\n",
       "  </tbody>\n",
       "</table>\n",
       "</div>"
      ],
      "text/plain": [
       "                ip    class\n",
       "0  201.166.132.114  unknown\n",
       "1   172.245.10.231  unknown\n",
       "2   119.237.180.88  unknown"
      ]
     },
     "execution_count": 6,
     "metadata": {},
     "output_type": "execute_result"
    }
   ],
   "source": [
    "# Load the ground truth\n",
    "gt = pd.read_csv(GT).drop(columns=['Unnamed: 0'])\n",
    "ips = filtered.ip.unique()\n",
    "# Get the lookup dataframe to retrieve\n",
    "# the ground truth class of the last day senders\n",
    "lookup = pd.DataFrame(ips, columns=['ip'])\\\n",
    "           .merge(gt, on='ip', how='left')\\\n",
    "           .fillna('unknown').replace({ 'criminalip':'unknown', \n",
    "                'adscore':'unknown', 'quadmetrics':'unknown', \n",
    "                'esrg_stanford':'unknown', 'netscout':'unknown'})\n",
    "\n",
    "print(lookup.shape)\n",
    "lookup.head(3)"
   ]
  },
  {
   "cell_type": "code",
   "execution_count": 7,
   "id": "weird-motorcycle",
   "metadata": {},
   "outputs": [
    {
     "name": "stdout",
     "output_type": "stream",
     "text": [
      "(22399, 201)\n"
     ]
    },
    {
     "data": {
      "text/html": [
       "<div>\n",
       "<style scoped>\n",
       "    .dataframe tbody tr th:only-of-type {\n",
       "        vertical-align: middle;\n",
       "    }\n",
       "\n",
       "    .dataframe tbody tr th {\n",
       "        vertical-align: top;\n",
       "    }\n",
       "\n",
       "    .dataframe thead th {\n",
       "        text-align: right;\n",
       "    }\n",
       "</style>\n",
       "<table border=\"1\" class=\"dataframe\">\n",
       "  <thead>\n",
       "    <tr style=\"text-align: right;\">\n",
       "      <th></th>\n",
       "      <th>0</th>\n",
       "      <th>1</th>\n",
       "      <th>2</th>\n",
       "      <th>3</th>\n",
       "      <th>4</th>\n",
       "      <th>5</th>\n",
       "      <th>6</th>\n",
       "      <th>7</th>\n",
       "      <th>8</th>\n",
       "      <th>9</th>\n",
       "      <th>...</th>\n",
       "      <th>191</th>\n",
       "      <th>192</th>\n",
       "      <th>193</th>\n",
       "      <th>194</th>\n",
       "      <th>195</th>\n",
       "      <th>196</th>\n",
       "      <th>197</th>\n",
       "      <th>198</th>\n",
       "      <th>199</th>\n",
       "      <th>class</th>\n",
       "    </tr>\n",
       "    <tr>\n",
       "      <th>ip</th>\n",
       "      <th></th>\n",
       "      <th></th>\n",
       "      <th></th>\n",
       "      <th></th>\n",
       "      <th></th>\n",
       "      <th></th>\n",
       "      <th></th>\n",
       "      <th></th>\n",
       "      <th></th>\n",
       "      <th></th>\n",
       "      <th></th>\n",
       "      <th></th>\n",
       "      <th></th>\n",
       "      <th></th>\n",
       "      <th></th>\n",
       "      <th></th>\n",
       "      <th></th>\n",
       "      <th></th>\n",
       "      <th></th>\n",
       "      <th></th>\n",
       "      <th></th>\n",
       "    </tr>\n",
       "  </thead>\n",
       "  <tbody>\n",
       "    <tr>\n",
       "      <th>201.166.132.114</th>\n",
       "      <td>-0.311996</td>\n",
       "      <td>-0.151880</td>\n",
       "      <td>-0.126155</td>\n",
       "      <td>-0.072640</td>\n",
       "      <td>-0.178640</td>\n",
       "      <td>0.024080</td>\n",
       "      <td>-0.022133</td>\n",
       "      <td>0.057160</td>\n",
       "      <td>-0.323721</td>\n",
       "      <td>0.022568</td>\n",
       "      <td>...</td>\n",
       "      <td>0.283371</td>\n",
       "      <td>0.126785</td>\n",
       "      <td>0.275466</td>\n",
       "      <td>0.114976</td>\n",
       "      <td>0.073976</td>\n",
       "      <td>-0.138251</td>\n",
       "      <td>0.262670</td>\n",
       "      <td>-0.148449</td>\n",
       "      <td>-0.197116</td>\n",
       "      <td>unknown</td>\n",
       "    </tr>\n",
       "    <tr>\n",
       "      <th>172.245.10.231</th>\n",
       "      <td>-1.256613</td>\n",
       "      <td>-1.317889</td>\n",
       "      <td>-0.910986</td>\n",
       "      <td>-0.773604</td>\n",
       "      <td>-1.041731</td>\n",
       "      <td>0.157510</td>\n",
       "      <td>-0.035242</td>\n",
       "      <td>-0.574435</td>\n",
       "      <td>-0.953921</td>\n",
       "      <td>-0.234043</td>\n",
       "      <td>...</td>\n",
       "      <td>0.120722</td>\n",
       "      <td>0.061658</td>\n",
       "      <td>0.289806</td>\n",
       "      <td>0.052150</td>\n",
       "      <td>0.272534</td>\n",
       "      <td>0.037336</td>\n",
       "      <td>0.426259</td>\n",
       "      <td>-0.294904</td>\n",
       "      <td>0.005054</td>\n",
       "      <td>unknown</td>\n",
       "    </tr>\n",
       "    <tr>\n",
       "      <th>119.237.180.88</th>\n",
       "      <td>-0.090121</td>\n",
       "      <td>-0.085896</td>\n",
       "      <td>0.007295</td>\n",
       "      <td>-0.115396</td>\n",
       "      <td>-0.096167</td>\n",
       "      <td>0.018933</td>\n",
       "      <td>-0.014268</td>\n",
       "      <td>0.004455</td>\n",
       "      <td>-0.023784</td>\n",
       "      <td>0.002346</td>\n",
       "      <td>...</td>\n",
       "      <td>0.032283</td>\n",
       "      <td>0.021382</td>\n",
       "      <td>0.159330</td>\n",
       "      <td>0.020799</td>\n",
       "      <td>0.031832</td>\n",
       "      <td>-0.078330</td>\n",
       "      <td>0.073449</td>\n",
       "      <td>0.004153</td>\n",
       "      <td>-0.060807</td>\n",
       "      <td>unknown</td>\n",
       "    </tr>\n",
       "  </tbody>\n",
       "</table>\n",
       "<p>3 rows × 201 columns</p>\n",
       "</div>"
      ],
      "text/plain": [
       "                        0         1         2         3         4         5  \\\n",
       "ip                                                                            \n",
       "201.166.132.114 -0.311996 -0.151880 -0.126155 -0.072640 -0.178640  0.024080   \n",
       "172.245.10.231  -1.256613 -1.317889 -0.910986 -0.773604 -1.041731  0.157510   \n",
       "119.237.180.88  -0.090121 -0.085896  0.007295 -0.115396 -0.096167  0.018933   \n",
       "\n",
       "                        6         7         8         9  ...       191  \\\n",
       "ip                                                       ...             \n",
       "201.166.132.114 -0.022133  0.057160 -0.323721  0.022568  ...  0.283371   \n",
       "172.245.10.231  -0.035242 -0.574435 -0.953921 -0.234043  ...  0.120722   \n",
       "119.237.180.88  -0.014268  0.004455 -0.023784  0.002346  ...  0.032283   \n",
       "\n",
       "                      192       193       194       195       196       197  \\\n",
       "ip                                                                            \n",
       "201.166.132.114  0.126785  0.275466  0.114976  0.073976 -0.138251  0.262670   \n",
       "172.245.10.231   0.061658  0.289806  0.052150  0.272534  0.037336  0.426259   \n",
       "119.237.180.88   0.021382  0.159330  0.020799  0.031832 -0.078330  0.073449   \n",
       "\n",
       "                      198       199    class  \n",
       "ip                                            \n",
       "201.166.132.114 -0.148449 -0.197116  unknown  \n",
       "172.245.10.231  -0.294904  0.005054  unknown  \n",
       "119.237.180.88   0.004153 -0.060807  unknown  \n",
       "\n",
       "[3 rows x 201 columns]"
      ]
     },
     "execution_count": 7,
     "metadata": {},
     "output_type": "execute_result"
    }
   ],
   "source": [
    "model_path_name = f'word2vec_auto_c5_e200'\n",
    "w2v = Word2Vec(mname=f'{MODELS}/word2vec/{model_path_name}')\n",
    "w2v.load_model()\n",
    "embeddings = w2v.get_embeddings(ips, lookup)\n",
    "\n",
    "print(embeddings.shape)\n",
    "embeddings.head(3)"
   ]
  },
  {
   "cell_type": "code",
   "execution_count": 8,
   "id": "narrow-tenant",
   "metadata": {},
   "outputs": [],
   "source": [
    "# Compute distance matrix\n",
    "from sklearn.metrics import pairwise_distances as distances\n",
    "X = embeddings.drop(columns=['class']).to_numpy()\n",
    "dist = distances(X, X, metric='cosine')"
   ]
  },
  {
   "cell_type": "code",
   "execution_count": 9,
   "id": "coupled-alcohol",
   "metadata": {},
   "outputs": [],
   "source": [
    "def elbow_eps(distance, nod, plot=False):\n",
    "    \"\"\" elbow method on kdist plot for DBSCAN epsilon\n",
    "    \"\"\"\n",
    "    from sklearn.neighbors import NearestNeighbors\n",
    "    import kneed \n",
    "\n",
    "    k = int(np.log(nod.shape[0])-1)\n",
    "    nn = NearestNeighbors(n_neighbors = k, metric='precomputed').fit(distance)\n",
    "    ds, idx = nn.kneighbors()\n",
    "    srtd = np.sort(-ds[:,-1])\n",
    "    srtd = -srtd/nod.shape[1]\n",
    "    kneedle = kneed.KneeLocator(\n",
    "        range(srtd.shape[0]), srtd, curve=\"convex\", direction=\"decreasing\", S=1\n",
    "    )\n",
    "    \n",
    "    if plot:\n",
    "        %matplotlib inline\n",
    "        plt.figure()\n",
    "        plt.plot(srtd, color='k')\n",
    "        plt.vlines(kneedle.knee, 0, np.max(srtd), color='r', linestyle='--')\n",
    "        #plt.yscale('log')\n",
    "        plt.ylim(0,  np.max(srtd))\n",
    "        plt.grid()\n",
    "        plt.xlabel('Observations')\n",
    "        plt.ylabel('kNN distance')\n",
    "        plt.tight_layout()\n",
    "        plt.show()\n",
    "        plt.close()\n",
    "        \n",
    "    return srtd[kneedle.knee]"
   ]
  },
  {
   "cell_type": "code",
   "execution_count": 10,
   "id": "american-white",
   "metadata": {},
   "outputs": [
    {
     "data": {
      "image/png": "[encoded data removed]",
      "text/plain": [
       "<Figure size 432x288 with 1 Axes>"
      ]
     },
     "metadata": {
      "needs_background": "light"
     },
     "output_type": "display_data"
    },
    {
     "name": "stdout",
     "output_type": "stream",
     "text": [
      "knee at epsilon = 0.0007183655816670998\n"
     ]
    }
   ],
   "source": [
    "eps = elbow_eps(dist, X, True)\n",
    "print(f'knee at epsilon = {eps}')"
   ]
  },
  {
   "cell_type": "code",
   "execution_count": 11,
   "id": "peripheral-cotton",
   "metadata": {},
   "outputs": [],
   "source": [
    "from sklearn.cluster import DBSCAN\n",
    "\n",
    "minPts = int(np.log(X.shape[0])-1)\n",
    "dbscan = DBSCAN(eps=eps, \n",
    "                min_samples=minPts, \n",
    "                metric='precomputed', \n",
    "                n_jobs=-1)\n",
    "\n",
    "pred1 = dbscan.fit_predict(dist)"
   ]
  },
  {
   "cell_type": "code",
   "execution_count": 12,
   "id": "affected-director",
   "metadata": {},
   "outputs": [
    {
     "data": {
      "text/plain": [
       "{-1}"
      ]
     },
     "execution_count": 12,
     "metadata": {},
     "output_type": "execute_result"
    }
   ],
   "source": [
    "set(pred1)"
   ]
  },
  {
   "cell_type": "code",
   "execution_count": 13,
   "id": "dried-heating",
   "metadata": {},
   "outputs": [
    {
     "data": {
      "image/png": "[encoded data removed]",
      "text/plain": [
       "<Figure size 432x288 with 1 Axes>"
      ]
     },
     "metadata": {
      "needs_background": "light"
     },
     "output_type": "display_data"
    }
   ],
   "source": [
    "from sklearn.cluster import AgglomerativeClustering as HAC\n",
    "from sklearn.metrics import silhouette_score as silhouette\n",
    "shs = []\n",
    "ncs = []\n",
    "for k in range(2, 40):\n",
    "    cl = HAC(n_clusters=k, affinity='precomputed', linkage='complete', compute_full_tree=True)\n",
    "    pred3 = cl.fit_predict(dist)\n",
    "    sh = silhouette(dist, pred3, metric='precomputed')\n",
    "    \n",
    "    shs.append(sh)\n",
    "    ncs.append(k)\n",
    "plt.figure()\n",
    "plt.plot(ncs, shs, color='k')\n",
    "plt.grid()\n",
    "plt.xlabel('Number of clusters')\n",
    "plt.ylabel('Average silhouette')\n",
    "\n",
    "plt.tight_layout()"
   ]
  },
  {
   "cell_type": "code",
   "execution_count": 14,
   "id": "outstanding-tutorial",
   "metadata": {},
   "outputs": [],
   "source": [
    "ks = []\n",
    "wss = []\n",
    "for k in range(2, 40):\n",
    "    kmeans = KMeans(n_clusters = k, random_state=20)\n",
    "    pred = kmeans.fit_predict(X)\n",
    "    ks.append(k)\n",
    "    wss.append(kmeans.inertia_) \n",
    "\n",
    "kneedle = kneed.KneeLocator(\n",
    "    ks, wss, curve=\"convex\", direction=\"decreasing\", S=10\n",
    ")"
   ]
  },
  {
   "cell_type": "code",
   "execution_count": 15,
   "id": "eleven-heaven",
   "metadata": {},
   "outputs": [
    {
     "data": {
      "image/png": "[encoded data removed]",
      "text/plain": [
       "<Figure size 432x288 with 1 Axes>"
      ]
     },
     "metadata": {
      "needs_background": "light"
     },
     "output_type": "display_data"
    }
   ],
   "source": [
    "plt.figure()\n",
    "plt.plot(ks, wss, color='k', marker='o', markersize=5)\n",
    "plt.vlines(kneedle.knee, 0, np.max(wss)+1000, color='r', linestyle='--')\n",
    "plt.grid()\n",
    "plt.xlabel('Number of clusters $k$')\n",
    "plt.ylabel('Inertia')\n",
    "plt.ylim(0, np.max(wss)+200)\n",
    "plt.xlim(0, 31)\n",
    "\n",
    "plt.tight_layout()"
   ]
  },
  {
   "cell_type": "code",
   "execution_count": null,
   "id": "first-affair",
   "metadata": {},
   "outputs": [],
   "source": []
  }
 ],
 "metadata": {
  "kernelspec": {
   "display_name": "Python 3",
   "language": "python",
   "name": "python3"
  },
  "language_info": {
   "codemirror_mode": {
    "name": "ipython",
    "version": 3
   },
   "file_extension": ".py",
   "mimetype": "text/x-python",
   "name": "python",
   "nbconvert_exporter": "python",
   "pygments_lexer": "ipython3",
   "version": "3.7.9"
  }
 },
 "nbformat": 4,
 "nbformat_minor": 5
}
