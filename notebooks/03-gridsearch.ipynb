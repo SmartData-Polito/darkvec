{
 "cells": [
  {
   "cell_type": "markdown",
   "id": "backed-cigarette",
   "metadata": {},
   "source": [
    "# <b>DarkVec: Automatic Analysis of Darknet Trafficwith Word Embeddings</b>\n",
    "## <b>3) Grid Search</b>  "
   ]
  },
  {
   "cell_type": "markdown",
   "id": "continental-violin",
   "metadata": {},
   "source": [
    "___\n",
    "\n",
    "## <b>Table of Content</b> <a id=\"toc_\"></a>\n",
    "\n",
    "* [Training Window Length](#trainwindow)  \n",
    "* [Top-n Ports for Auto Defined Services](#topn)  \n",
    "    * [Single Training](#topn:single)  \n",
    "    * [incremental Training](#topn:incremental)  \n",
    "* [k of k-NN Classifier](#knofknn)\n",
    "* [Without Duplicates and Incremental Training](#duplicatesincremental)\n",
    "* [Word2Vec Parameters](#word2vec)\n",
    "* [Best Cases](#final)  \n",
    "\n",
    "Notebook description\n",
    "\n",
    "___\n",
    "***Note:*** All the code and data we provide are the ones included in the paper. To speed up the notebook execution, by default we trim the files when reading them. Comments on how to run on complete files are provided in the notebook. Note that running the notebook with the complete dataset requires *a PC with significant amount of memory*. \n",
    "\n",
    "***Note:*** Be aware that these script require a large amount of time for training all models tested in the paper."
   ]
  },
  {
   "cell_type": "code",
   "execution_count": 3,
   "id": "caroline-consent",
   "metadata": {},
   "outputs": [],
   "source": [
    "DEMONSTRATIVE = False"
   ]
  },
  {
   "cell_type": "code",
   "execution_count": 1,
   "id": "intended-electric",
   "metadata": {},
   "outputs": [],
   "source": [
    "from config import *\n",
    "from src.word2vec import Word2Vec\n",
    "from src.preprocess import load_raw_data, filter_data\n",
    "from src.preprocess import get_next_day, get_prev_day\n",
    "from src.knnClassifier import *\n",
    "from src.utils import *\n",
    "from src.callbacks import *\n",
    "\n",
    "from sklearn.manifold import TSNE\n",
    "from sklearn.metrics import pairwise_distances as distances\n",
    "import pandas as pd"
   ]
  },
  {
   "cell_type": "code",
   "execution_count": 2,
   "id": "different-complaint",
   "metadata": {},
   "outputs": [],
   "source": [
    "import matplotlib.pyplot as plt\n",
    "%matplotlib inline\n",
    "import fastplot\n",
    "from cycler import cycler\n",
    "plt.rcParams[\"font.family\"] = \"serif\"\n",
    "\n",
    "cc = (cycler('color',['k', 'r', 'b', 'g', 'y', 'm', 'c'])+\n",
    "      cycler('linestyle',['-', '--', '-.', ':', '-', '--', '-.']))"
   ]
  },
  {
   "cell_type": "markdown",
   "id": "driving-identity",
   "metadata": {},
   "source": [
    "___\n",
    "### <b>Prerequisites</b> <a name=\"trainwindow\"></a>\n",
    "\n"
   ]
  },
  {
   "cell_type": "code",
   "execution_count": 3,
   "id": "upper-wrist",
   "metadata": {},
   "outputs": [
    {
     "name": "stdout",
     "output_type": "stream",
     "text": [
      "(3403919, 6)\n"
     ]
    },
    {
     "data": {
      "text/html": [
       "<div>\n",
       "<style scoped>\n",
       "    .dataframe tbody tr th:only-of-type {\n",
       "        vertical-align: middle;\n",
       "    }\n",
       "\n",
       "    .dataframe tbody tr th {\n",
       "        vertical-align: top;\n",
       "    }\n",
       "\n",
       "    .dataframe thead th {\n",
       "        text-align: right;\n",
       "    }\n",
       "</style>\n",
       "<table border=\"1\" class=\"dataframe\">\n",
       "  <thead>\n",
       "    <tr style=\"text-align: right;\">\n",
       "      <th></th>\n",
       "      <th>ts</th>\n",
       "      <th>ip</th>\n",
       "      <th>port</th>\n",
       "      <th>proto</th>\n",
       "      <th>pck_len</th>\n",
       "      <th>pp</th>\n",
       "    </tr>\n",
       "    <tr>\n",
       "      <th>ts</th>\n",
       "      <th></th>\n",
       "      <th></th>\n",
       "      <th></th>\n",
       "      <th></th>\n",
       "      <th></th>\n",
       "      <th></th>\n",
       "    </tr>\n",
       "  </thead>\n",
       "  <tbody>\n",
       "    <tr>\n",
       "      <th>2021-03-30 22:29:08.691001</th>\n",
       "      <td>2021-03-30 22:29:08.691001</td>\n",
       "      <td>201.166.132.114</td>\n",
       "      <td>1433</td>\n",
       "      <td>tcp</td>\n",
       "      <td>66</td>\n",
       "      <td>1433/tcp</td>\n",
       "    </tr>\n",
       "    <tr>\n",
       "      <th>2021-03-30 22:29:08.691010</th>\n",
       "      <td>2021-03-30 22:29:08.691010</td>\n",
       "      <td>201.166.132.114</td>\n",
       "      <td>1433</td>\n",
       "      <td>tcp</td>\n",
       "      <td>66</td>\n",
       "      <td>1433/tcp</td>\n",
       "    </tr>\n",
       "    <tr>\n",
       "      <th>2021-03-30 22:29:08.811067</th>\n",
       "      <td>2021-03-30 22:29:08.811067</td>\n",
       "      <td>172.245.10.231</td>\n",
       "      <td>3699</td>\n",
       "      <td>tcp</td>\n",
       "      <td>60</td>\n",
       "      <td>3699/tcp</td>\n",
       "    </tr>\n",
       "  </tbody>\n",
       "</table>\n",
       "</div>"
      ],
      "text/plain": [
       "                                                   ts               ip  port  \\\n",
       "ts                                                                             \n",
       "2021-03-30 22:29:08.691001 2021-03-30 22:29:08.691001  201.166.132.114  1433   \n",
       "2021-03-30 22:29:08.691010 2021-03-30 22:29:08.691010  201.166.132.114  1433   \n",
       "2021-03-30 22:29:08.811067 2021-03-30 22:29:08.811067   172.245.10.231  3699   \n",
       "\n",
       "                           proto  pck_len        pp  \n",
       "ts                                                   \n",
       "2021-03-30 22:29:08.691001   tcp       66  1433/tcp  \n",
       "2021-03-30 22:29:08.691010   tcp       66  1433/tcp  \n",
       "2021-03-30 22:29:08.811067   tcp       60  3699/tcp  "
      ]
     },
     "execution_count": 3,
     "metadata": {},
     "output_type": "execute_result"
    }
   ],
   "source": [
    "# Load last day of traffic\n",
    "raw_data = load_raw_data('20210331')\n",
    "filtered = filter_data(raw_data, '20210331')\n",
    "\n",
    "print(filtered.shape)\n",
    "filtered.head(3)"
   ]
  },
  {
   "cell_type": "code",
   "execution_count": 4,
   "id": "intelligent-lebanon",
   "metadata": {},
   "outputs": [
    {
     "name": "stdout",
     "output_type": "stream",
     "text": [
      "(22399, 2)\n"
     ]
    },
    {
     "data": {
      "text/html": [
       "<div>\n",
       "<style scoped>\n",
       "    .dataframe tbody tr th:only-of-type {\n",
       "        vertical-align: middle;\n",
       "    }\n",
       "\n",
       "    .dataframe tbody tr th {\n",
       "        vertical-align: top;\n",
       "    }\n",
       "\n",
       "    .dataframe thead th {\n",
       "        text-align: right;\n",
       "    }\n",
       "</style>\n",
       "<table border=\"1\" class=\"dataframe\">\n",
       "  <thead>\n",
       "    <tr style=\"text-align: right;\">\n",
       "      <th></th>\n",
       "      <th>ip</th>\n",
       "      <th>class</th>\n",
       "    </tr>\n",
       "  </thead>\n",
       "  <tbody>\n",
       "    <tr>\n",
       "      <th>0</th>\n",
       "      <td>201.166.132.114</td>\n",
       "      <td>unknown</td>\n",
       "    </tr>\n",
       "    <tr>\n",
       "      <th>1</th>\n",
       "      <td>172.245.10.231</td>\n",
       "      <td>unknown</td>\n",
       "    </tr>\n",
       "    <tr>\n",
       "      <th>2</th>\n",
       "      <td>119.237.180.88</td>\n",
       "      <td>unknown</td>\n",
       "    </tr>\n",
       "  </tbody>\n",
       "</table>\n",
       "</div>"
      ],
      "text/plain": [
       "                ip    class\n",
       "0  201.166.132.114  unknown\n",
       "1   172.245.10.231  unknown\n",
       "2   119.237.180.88  unknown"
      ]
     },
     "execution_count": 4,
     "metadata": {},
     "output_type": "execute_result"
    }
   ],
   "source": [
    "# Load the ground truth\n",
    "gt = pd.read_csv(GT).drop(columns=['Unnamed: 0'])\n",
    "ips = filtered.ip.unique()\n",
    "# Get the lookup dataframe to retrieve\n",
    "# the ground truth class of the last day senders\n",
    "lookup = pd.DataFrame(ips, columns=['ip'])\\\n",
    "           .merge(gt, on='ip', how='left')\\\n",
    "           .fillna('unknown').replace({ 'criminalip':'unknown', \n",
    "                'adscore':'unknown', 'quadmetrics':'unknown', \n",
    "                'esrg_stanford':'unknown', 'netscout':'unknown'})\n",
    "\n",
    "print(lookup.shape)\n",
    "lookup.head(3)"
   ]
  },
  {
   "cell_type": "markdown",
   "id": "crucial-operation",
   "metadata": {},
   "source": [
    "___\n",
    "### <b>Training Window Length</b> <a name=\"trainwindow\"></a>\n",
    "\n"
   ]
  },
  {
   "cell_type": "code",
   "execution_count": 6,
   "id": "disciplinary-tracy",
   "metadata": {},
   "outputs": [
    {
     "data": {
      "text/html": [
       "<div>\n",
       "<style scoped>\n",
       "    .dataframe tbody tr th:only-of-type {\n",
       "        vertical-align: middle;\n",
       "    }\n",
       "\n",
       "    .dataframe tbody tr th {\n",
       "        vertical-align: top;\n",
       "    }\n",
       "\n",
       "    .dataframe thead th {\n",
       "        text-align: right;\n",
       "    }\n",
       "</style>\n",
       "<table border=\"1\" class=\"dataframe\">\n",
       "  <thead>\n",
       "    <tr style=\"text-align: right;\">\n",
       "      <th></th>\n",
       "      <th>training_days</th>\n",
       "      <th>ip_set</th>\n",
       "    </tr>\n",
       "  </thead>\n",
       "  <tbody>\n",
       "    <tr>\n",
       "      <th>0</th>\n",
       "      <td>1</td>\n",
       "      <td>32.582749</td>\n",
       "    </tr>\n",
       "    <tr>\n",
       "      <th>1</th>\n",
       "      <td>2</td>\n",
       "      <td>57.585825</td>\n",
       "    </tr>\n",
       "    <tr>\n",
       "      <th>2</th>\n",
       "      <td>3</td>\n",
       "      <td>69.595177</td>\n",
       "    </tr>\n",
       "  </tbody>\n",
       "</table>\n",
       "</div>"
      ],
      "text/plain": [
       "   training_days     ip_set\n",
       "0              1  32.582749\n",
       "1              2  57.585825\n",
       "2              3  69.595177"
      ]
     },
     "execution_count": 6,
     "metadata": {},
     "output_type": "execute_result"
    }
   ],
   "source": [
    "known_ips = set(lookup[lookup['class']!='unknown'].ip.unique())\n",
    "if not DEMONSTRATIVE: tr_days = [1, 2, 3, 4, 5, 10, 20, 30]\n",
    "else: tr_days = [1, 2, 3]\n",
    "gs_train_window = []\n",
    "for days in tr_days:\n",
    "    day = '20210331'\n",
    "    raws = []\n",
    "    for d in range(days):\n",
    "        _raw = load_raw_data(day)\n",
    "        raws.append(_raw)\n",
    "        day = get_prev_day(day)\n",
    "    _raw = pd.concat(raws)\n",
    "    # Apply the filter\n",
    "    freqs = _raw.value_counts('ip')\n",
    "    idx = freqs[freqs>=10].index\n",
    "    _active = _raw[(_raw.ip.isin(known_ips)) & (_raw.ip.isin(idx))]\n",
    "    # Get the coverage\n",
    "    covered = _active.ip.unique().shape[0]\n",
    "    coverage = covered*100/len(known_ips)\n",
    "    gs_train_window.append((days, coverage))\n",
    "gs_train_window = pd.DataFrame(gs_train_window, columns=['training_days', 'ip_set'])\n",
    "gs_train_window.head()"
   ]
  },
  {
   "cell_type": "code",
   "execution_count": 8,
   "id": "respiratory-ceramic",
   "metadata": {},
   "outputs": [
    {
     "data": {
      "text/plain": [
       "<Figure size 640x480 with 0 Axes>"
      ]
     },
     "metadata": {},
     "output_type": "display_data"
    },
    {
     "data": {
      "image/png": "[encoded data removed]",
      "text/plain": [
       "<Figure size 500x350 with 1 Axes>"
      ]
     },
     "metadata": {},
     "output_type": "display_data"
    }
   ],
   "source": [
    "import fastplot\n",
    "\n",
    "def custom_f(plt):\n",
    "    plt.xlabel('$Embeddings e$')\n",
    "    plt.ylabel('$c$')\n",
    "\n",
    "%matplotlib inline\n",
    "plot = fastplot.plot(None,  None, mode = 'callback', callback = lambda plt: custom_f(plt),\n",
    "                      figsize=(5, 3.5), fontsize=14, style='latex')\n",
    "#if not DEMONSTRATIVE:\n",
    "plot.savefig('reports/figures/tmp.pdf')\n",
    "\n",
    "plot.show()"
   ]
  },
  {
   "cell_type": "code",
   "execution_count": 7,
   "id": "forward-judgment",
   "metadata": {},
   "outputs": [
    {
     "data": {
      "text/plain": [
       "<Figure size 640x480 with 0 Axes>"
      ]
     },
     "metadata": {},
     "output_type": "display_data"
    },
    {
     "data": {
      "image/png": "[encoded data removed]",
      "text/plain": [
       "<Figure size 500x350 with 1 Axes>"
      ]
     },
     "metadata": {},
     "output_type": "display_data"
    }
   ],
   "source": [
    "%matplotlib inline\n",
    "plot = fastplot.plot(None,  None, mode = 'callback', callback = lambda plt: plotTrainingWindow(plt, gs_train_window),\n",
    "                      figsize=(5, 3.5), fontsize=14)\n",
    "if not DEMONSTRATIVE:\n",
    "    plot.savefig('reports/figures/gs_training_window.pdf')\n",
    "\n",
    "plot.show()"
   ]
  },
  {
   "cell_type": "markdown",
   "id": "together-production",
   "metadata": {},
   "source": [
    "___\n",
    "### <b>Top-n Ports for Auto Defined Services</b> <a name=\"topn\"></a>\n",
    "\n"
   ]
  },
  {
   "cell_type": "markdown",
   "id": "cleared-joining",
   "metadata": {},
   "source": [
    "___\n",
    "#### <b>Incremental Training</b> <a name=\"topn:incremental\"></a>\n"
   ]
  },
  {
   "cell_type": "code",
   "execution_count": 13,
   "id": "adverse-polish",
   "metadata": {},
   "outputs": [
    {
     "name": "stdout",
     "output_type": "stream",
     "text": [
      "Loading gridsearch_incremental_ports_1\n",
      "Running the 7-NN classifier\n",
      "Loading gridsearch_incremental_ports_3\n",
      "Running the 7-NN classifier\n",
      "Loading gridsearch_incremental_ports_5\n",
      "Running the 7-NN classifier\n",
      "Loading gridsearch_incremental_ports_10\n",
      "Running the 7-NN classifier\n"
     ]
    }
   ],
   "source": [
    "avg_x, avg_y, perclass_x, perclass_y = ([] for i in range(4))\n",
    "if not DEMONSTRATIVE: TOPN = [1, 3, 5, 10, 30, 40, 50, 60, 100, \n",
    "                              500, 1000 ,1500, 2500, 3000, 10000]\n",
    "else: TOPN = [1, 3, 5, 10]\n",
    "    \n",
    "for TOP in TOPN:\n",
    "    # Load the model and retrieve the embeddings\n",
    "    model_path_name = f'gridsearch_incremental_ports_{TOP}'\n",
    "    print(f'Loading {model_path_name}')\n",
    "    w2v = Word2Vec(mname=f'{MODELS}/gridsearch/{model_path_name}')\n",
    "    w2v.load_model()\n",
    "    embeddings = w2v.get_embeddings(ips, lookup)\n",
    "    # Run a 7-NN classifier and get the report\n",
    "    print('Running the 7-NN classifier')\n",
    "    knn = KnnClassifier(embeddings, 7)\n",
    "    knn.fit_predict()\n",
    "    knnlabels = lookup[lookup['class']!='unknown']['class'].unique()\n",
    "    # Classification report\n",
    "    report = knn.get_report(output_dict=True, labels=knnlabels)\n",
    "    \n",
    "    # Update lists for plot\n",
    "    for k,v in report.items():\n",
    "        if k == 'macro avg':\n",
    "            avg_y.append(v['f1-score'])\n",
    "            avg_x.append(TOP)\n",
    "        if k not in ['micro avg', 'macro avg', 'weighted avg']:\n",
    "            perclass_y.append(v['f1-score'])\n",
    "            perclass_x.append(TOP)"
   ]
  },
  {
   "cell_type": "code",
   "execution_count": 14,
   "id": "standard-occasions",
   "metadata": {},
   "outputs": [
    {
     "data": {
      "text/plain": [
       "<Figure size 640x480 with 0 Axes>"
      ]
     },
     "metadata": {},
     "output_type": "display_data"
    },
    {
     "data": {
      "image/png": "[encoded data removed]",
      "text/plain": [
       "<Figure size 500x350 with 1 Axes>"
      ]
     },
     "metadata": {},
     "output_type": "display_data"
    }
   ],
   "source": [
    "%matplotlib inline\n",
    "\n",
    "plot = fastplot.plot(None,  None, mode = 'callback', callback = lambda plt: plotTopN(plt, perclass_x, perclass_y, avg_x, avg_y),\n",
    "                      cycler=cc, figsize=(5, 3.5), fontsize=14, style='latex')\n",
    "if not DEMONSTRATIVE:\n",
    "    plot.savefig('reports/figures/auto-defined-ports-incremental.pdf')\n",
    "plot.show()"
   ]
  },
  {
   "cell_type": "markdown",
   "id": "demanding-narrow",
   "metadata": {},
   "source": [
    "___\n",
    "#### <b>Single Training</b> <a name=\"topn:single\"></a>\n",
    "\n"
   ]
  },
  {
   "cell_type": "code",
   "execution_count": 15,
   "id": "actual-dutch",
   "metadata": {},
   "outputs": [
    {
     "name": "stdout",
     "output_type": "stream",
     "text": [
      "Loading gridsearch_single_ports_1\n",
      "Running the 7-NN classifier\n",
      "Loading gridsearch_single_ports_3\n",
      "Running the 7-NN classifier\n",
      "Loading gridsearch_single_ports_5\n",
      "Running the 7-NN classifier\n",
      "Loading gridsearch_single_ports_10\n",
      "Running the 7-NN classifier\n"
     ]
    }
   ],
   "source": [
    "avg_x, avg_y, perclass_x, perclass_y = ([] for i in range(4))\n",
    "if not DEMONSTRATIVE: TOPN = [1, 3, 5, 10, 30, 40, 50, 60, 100, \n",
    "                              500, 1000 ,1500, 2500, 3000, 10000]\n",
    "else: TOPN = [1, 3, 5, 10]\n",
    "    \n",
    "for TOP in TOPN:\n",
    "    # Load the model and retrieve the embeddings\n",
    "    model_path_name = f'gridsearch_single_ports_{TOP}'\n",
    "    print(f'Loading {model_path_name}')\n",
    "    w2v = Word2Vec(mname=f'{MODELS}/gridsearch/{model_path_name}')\n",
    "    w2v.load_model()\n",
    "    embeddings = w2v.get_embeddings(ips, lookup)\n",
    "    # Run a 7-NN classifier and get the report\n",
    "    print('Running the 7-NN classifier')\n",
    "    knn = KnnClassifier(embeddings, 7)\n",
    "    knn.fit_predict()\n",
    "    knnlabels = lookup[lookup['class']!='unknown']['class'].unique()\n",
    "    # Classification report\n",
    "    report = knn.get_report(output_dict=True, labels=knnlabels)\n",
    "    \n",
    "    # Update lists for plot\n",
    "    for k,v in report.items():\n",
    "        if k == 'macro avg':\n",
    "            avg_y.append(v['f1-score'])\n",
    "            avg_x.append(TOP)\n",
    "        if k not in ['micro avg', 'macro avg', 'weighted avg']:\n",
    "            perclass_y.append(v['f1-score'])\n",
    "            perclass_x.append(TOP)"
   ]
  },
  {
   "cell_type": "code",
   "execution_count": 16,
   "id": "announced-spouse",
   "metadata": {},
   "outputs": [
    {
     "data": {
      "text/plain": [
       "<Figure size 640x480 with 0 Axes>"
      ]
     },
     "metadata": {},
     "output_type": "display_data"
    },
    {
     "data": {
      "image/png": "[encoded data removed]",
      "text/plain": [
       "<Figure size 500x350 with 1 Axes>"
      ]
     },
     "metadata": {},
     "output_type": "display_data"
    }
   ],
   "source": [
    "%matplotlib inline\n",
    "\n",
    "plot = fastplot.plot(None,  None, mode = 'callback', callback = lambda plt: plotTopN(plt, perclass_x, perclass_y, avg_x, avg_y),\n",
    "                      cycler=cc, figsize=(5, 3.5), fontsize=14, style='latex')\n",
    "if not DEMONSTRATIVE:\n",
    "    plot.savefig('reports/figures/auto-defined-ports-single.pdf')\n",
    "plot.show()"
   ]
  },
  {
   "cell_type": "markdown",
   "id": "warming-emerald",
   "metadata": {},
   "source": [
    "___\n",
    "### <b>k of k-NN Classifier</b> <a name=\"knofknn\"></a>\n",
    "\n"
   ]
  },
  {
   "cell_type": "code",
   "execution_count": 19,
   "id": "possible-stereo",
   "metadata": {},
   "outputs": [
    {
     "name": "stdout",
     "output_type": "stream",
     "text": [
      "Loading gs_kofknn_incremental_dks_new_True\n",
      "Loading gs_kofknn_incremental_single_new_True\n",
      "Loading /share/smartdata/huawei/darknet_graph/PaperExtension/models/gridsearch/gs_kofknn_incremental_single\n",
      "Loading gs_kofknn_incremental_auto_new_True\n"
     ]
    }
   ],
   "source": [
    "m1, m2, m3, m4 = ([] for _ in range(4))\n",
    "if not DEMONSTRATIVE: x_ = np.arange(1, 40, 2)\n",
    "else: x_ = np.arange(1, 6, 2)\n",
    "#for method in ['dks', 'single', 'auto', 'hybrid']:\n",
    "for method in ['dks', 'single', 'auto']:\n",
    "    try:\n",
    "        mname = f'gs_kofknn_incremental_{method}_new_True'\n",
    "        print(f'Loading {mname}')\n",
    "        w2v = Word2Vec(mname=mname)\n",
    "        w2v.load_model()\n",
    "    except:\n",
    "        mname = f'{MODELS}/gridsearch/gs_kofknn_incremental_{method}'\n",
    "        print(f'Loading {mname}')\n",
    "        w2v = Word2Vec(mname=mname)\n",
    "        w2v.load_model()\n",
    "    embeddings = w2v.get_embeddings(ips, lookup)\n",
    "    for kk in x_:\n",
    "        knn = KnnClassifier(embeddings, kk)\n",
    "        knn.fit_predict()\n",
    "        knnlabels = lookup[lookup['class']!='unknown']['class'].unique()\n",
    "        report = knn.get_report(output_dict=True, labels=knnlabels)\n",
    "        f1 = report['macro avg']['f1-score']\n",
    "        \n",
    "        if method == 'dks': m1.append(f1)\n",
    "        elif method == 'single': m2.append(f1)\n",
    "        elif method == 'auto': m3.append(f1)\n",
    "        elif method == 'hybrid': m4.append(f1)"
   ]
  },
  {
   "cell_type": "raw",
   "id": "funny-confidence",
   "metadata": {},
   "source": [
    "m1, m2, m3, m4 = ([] for _ in range(4))\n",
    "if not DEMONSTRATIVE: x_ = np.arange(1, 40, 2)\n",
    "else: x_ = np.arange(1, 6, 2)\n",
    "#for method in ['dks', 'single', 'auto', 'hybrid']:\n",
    "for method in ['dks', 'single', 'auto']:\n",
    "    try:\n",
    "        mname = f'{MODELS}/gridsearch/gs_kofknn_incremental_{method}_new_True'\n",
    "        print(f'Loading {mname}')\n",
    "        w2v = Word2Vec(mname=mname)\n",
    "    except:\n",
    "        mname = f'{MODELS}/gridsearch/gs_kofknn_incremental_{method}'\n",
    "        print(f'Loading {mname}')\n",
    "        w2v = Word2Vec(mname=mname)\n",
    "    w2v.load_model()\n",
    "    embeddings = w2v.get_embeddings(ips, lookup)\n",
    "    for kk in x_:\n",
    "        knn = KnnClassifier(embeddings, kk)\n",
    "        knn.fit_predict()\n",
    "        knnlabels = lookup[lookup['class']!='unknown']['class'].unique()\n",
    "        report = knn.get_report(output_dict=True, labels=knnlabels)\n",
    "        f1 = report['macro avg']['f1-score']\n",
    "        \n",
    "        if method == 'dks': m1.append(f1)\n",
    "        elif method == 'single': m2.append(f1)\n",
    "        elif method == 'auto': m3.append(f1)\n",
    "        elif method == 'hybrid': m4.append(f1)"
   ]
  },
  {
   "cell_type": "code",
   "execution_count": 10,
   "id": "downtown-showcase",
   "metadata": {},
   "outputs": [],
   "source": [
    "def plotKofKnn(plt, x, y1, y2, y3):\n",
    "    plt.plot(x, y1, marker='o', markersize=4, label='DKS')\n",
    "    plt.plot(x, y2, marker='s', markersize=4, label='SS')\n",
    "    plt.plot(x, y3, marker='^', markersize=4, label='AS')\n",
    "    plt.xlabel('$k$')\n",
    "    plt.ylabel('Avg. $k$-NN Macro F-Score')\n",
    "    plt.xticks([1, 3, 5, 7, 17, 25, 35], [1, 3, 5, 7, 17, 25, 35])\n",
    "    plt.xlim(0, 40)\n",
    "    plt.ylim(0, 1)\n",
    "    plt.grid(linestyle='-.')\n",
    "    plt.legend(ncol=3)"
   ]
  },
  {
   "cell_type": "code",
   "execution_count": 11,
   "id": "infrared-proposition",
   "metadata": {},
   "outputs": [
    {
     "data": {
      "text/plain": [
       "<Figure size 640x480 with 0 Axes>"
      ]
     },
     "metadata": {},
     "output_type": "display_data"
    },
    {
     "data": {
      "image/png": "[encoded data removed]",
      "text/plain": [
       "<Figure size 500x350 with 1 Axes>"
      ]
     },
     "metadata": {},
     "output_type": "display_data"
    }
   ],
   "source": [
    "%matplotlib inline\n",
    "plot = fastplot.plot(None,  None, mode = 'callback', callback = lambda plt: plotKofKnn(plt, x_, m1, m2, m3),\n",
    "                      cycler=cc, figsize=(5, 3.5), fontsize=14, style='latex')\n",
    "if not DEMONSTRATIVE:\n",
    "    plot.savefig('reports/figures/knn_trend.pdf')\n",
    "plot.show()"
   ]
  },
  {
   "cell_type": "markdown",
   "id": "knowing-consciousness",
   "metadata": {},
   "source": [
    "___\n",
    "### <b>Without Duplicates and Incremental Training</b> <a name=\"duplicatesincremental\"></a>\n",
    "\n"
   ]
  },
  {
   "cell_type": "raw",
   "id": "waiting-manual",
   "metadata": {},
   "source": [
    "df1, df2, df3  = (get_corpus_stats(), get_runtime_stats(), get_knn_stats(ips, lookup))\n",
    "\n",
    "pd.concat([df1, df2, df3]).reindex(columns=df3.columns)"
   ]
  },
  {
   "cell_type": "code",
   "execution_count": 15,
   "id": "polish-debate",
   "metadata": {},
   "outputs": [
    {
     "name": "stdout",
     "output_type": "stream",
     "text": [
      "False auto\n",
      "{'precision': 0.9305002376300615, 'recall': 0.8265387472721962, 'f1-score': 0.8677954531816279, 'support': 8127}\n",
      "{'precision': 0.9937912943396799, 'recall': 0.9714531807555064, 'f1-score': 0.9818836505984008, 'support': 8127}\n",
      "False dks\n",
      "{'precision': 0.8643757214785988, 'recall': 0.6207926817366176, 'f1-score': 0.6346314060411964, 'support': 8127}\n",
      "{'precision': 0.9794279705597936, 'recall': 0.9389688692014273, 'f1-score': 0.9527963092331229, 'support': 8127}\n",
      "True auto\n",
      "{'precision': 0.9407388007601093, 'recall': 0.8311393172444773, 'f1-score': 0.8623290281006596, 'support': 8127}\n",
      "{'precision': 0.9937295419772219, 'recall': 0.9697305278700628, 'f1-score': 0.9790341816345296, 'support': 8127}\n",
      "True dks\n",
      "{'precision': 0.8310548982267392, 'recall': 0.6936551505180648, 'f1-score': 0.7170578837298158, 'support': 8127}\n",
      "{'precision': 0.9815272389741527, 'recall': 0.9413067552602437, 'f1-score': 0.9576525726768504, 'support': 8127}\n"
     ]
    }
   ],
   "source": [
    "for with_ in [False, True]:\n",
    "    for ss in ['auto', 'dks']:\n",
    "        w2v = Word2Vec(mname=f'gs_kofknn_incremental_{ss}_new_{with_}')\n",
    "        w2v.load_model()\n",
    "        embeddings = w2v.get_embeddings(ips, lookup)\n",
    "\n",
    "        knn = KnnClassifier(embeddings, 5)\n",
    "        knn.fit_predict()\n",
    "        knnlabels = lookup[lookup['class']!='unknown']['class'].unique()\n",
    "        report = knn.get_report(output_dict=True, labels=knnlabels)\n",
    "        print(with_, ss)\n",
    "        print(report['macro avg'])\n",
    "        print(report['weighted avg'])"
   ]
  },
  {
   "cell_type": "markdown",
   "id": "applicable-abraham",
   "metadata": {},
   "source": [
    "___\n",
    "### <b>Word2Vec Parameters</b> <a name=\"word2vec\"></a>\n",
    "\n"
   ]
  },
  {
   "cell_type": "code",
   "execution_count": 2,
   "id": "typical-distance",
   "metadata": {},
   "outputs": [
    {
     "ename": "NameError",
     "evalue": "name 'get_heatmap_df' is not defined",
     "output_type": "error",
     "traceback": [
      "\u001b[0;31m---------------------------------------------------------------------------\u001b[0m",
      "\u001b[0;31mNameError\u001b[0m                                 Traceback (most recent call last)",
      "\u001b[0;32m<ipython-input-2-4190f283836b>\u001b[0m in \u001b[0;36m<module>\u001b[0;34m\u001b[0m\n\u001b[1;32m      3\u001b[0m \u001b[0mservice\u001b[0m \u001b[0;34m=\u001b[0m \u001b[0;34m'as'\u001b[0m\u001b[0;34m\u001b[0m\u001b[0;34m\u001b[0m\u001b[0m\n\u001b[1;32m      4\u001b[0m \u001b[0;34m\u001b[0m\u001b[0m\n\u001b[0;32m----> 5\u001b[0;31m \u001b[0m_heatmap\u001b[0m \u001b[0;34m=\u001b[0m \u001b[0mpd\u001b[0m\u001b[0;34m.\u001b[0m\u001b[0mDataFrame\u001b[0m\u001b[0;34m(\u001b[0m\u001b[0mget_heatmap_df\u001b[0m\u001b[0;34m(\u001b[0m\u001b[0mservice\u001b[0m\u001b[0;34m,\u001b[0m \u001b[0mips\u001b[0m\u001b[0;34m,\u001b[0m \u001b[0mlookup\u001b[0m\u001b[0;34m)\u001b[0m\u001b[0;34m)\u001b[0m\u001b[0;34m\u001b[0m\u001b[0;34m\u001b[0m\u001b[0m\n\u001b[0m\u001b[1;32m      6\u001b[0m \u001b[0;34m\u001b[0m\u001b[0m\n\u001b[1;32m      7\u001b[0m \u001b[0mget_ipython\u001b[0m\u001b[0;34m(\u001b[0m\u001b[0;34m)\u001b[0m\u001b[0;34m.\u001b[0m\u001b[0mrun_line_magic\u001b[0m\u001b[0;34m(\u001b[0m\u001b[0;34m'matplotlib'\u001b[0m\u001b[0;34m,\u001b[0m \u001b[0;34m'inline'\u001b[0m\u001b[0;34m)\u001b[0m\u001b[0;34m\u001b[0m\u001b[0;34m\u001b[0m\u001b[0m\n",
      "\u001b[0;31mNameError\u001b[0m: name 'get_heatmap_df' is not defined"
     ]
    }
   ],
   "source": [
    "service = 'as'\n",
    "\n",
    "_heatmap = pd.DataFrame(get_heatmap_df(service, ips, lookup))\n",
    "\n",
    "%matplotlib inline\n",
    "plot = fastplot.plot(None,  None, mode = 'callback', callback = lambda plt: plotGridsearchFscore(plt, _heatmap.T),\n",
    "                      figsize=(5, 3.5), fontsize=16, style='latex')\n",
    "#if not DEMONSTRATIVE:\n",
    "#    plot.savefig(f'report/figures/gs_{service}.pdf')\n",
    "plot.show()"
   ]
  },
  {
   "cell_type": "code",
   "execution_count": 21,
   "id": "civilian-arlington",
   "metadata": {},
   "outputs": [
    {
     "data": {
      "text/plain": [
       "<Figure size 640x480 with 0 Axes>"
      ]
     },
     "metadata": {},
     "output_type": "display_data"
    },
    {
     "data": {
      "image/png": "[encoded data removed]",
      "text/plain": [
       "<Figure size 500x350 with 2 Axes>"
      ]
     },
     "metadata": {},
     "output_type": "display_data"
    }
   ],
   "source": [
    "_heatmap = pd.DataFrame(extract_gridsearch_runtimes(service))\n",
    "\n",
    "%matplotlib inline\n",
    "plot = fastplot.plot(None,  None, mode = 'callback', callback = lambda plt: plotGridsearchRuntimes(plt, _heatmap),\n",
    "                      figsize=(5, 3.5), fontsize=16, style='latex')\n",
    "if not DEMONSTRATIVE:\n",
    "    plot.savefig('gs_times_DK.pdf')\n",
    "plot.show()"
   ]
  },
  {
   "cell_type": "markdown",
   "id": "stopped-blast",
   "metadata": {},
   "source": [
    "___\n",
    "### <b>Best Cases</b> <a name=\"final\"></a>\n",
    "\n"
   ]
  },
  {
   "cell_type": "code",
   "execution_count": 22,
   "id": "durable-myanmar",
   "metadata": {},
   "outputs": [
    {
     "name": "stdout",
     "output_type": "stream",
     "text": [
      "====================================================\n",
      "Single\n",
      "====================================================\n",
      "                 precision  recall  f1-score  support\n",
      "micro avg             0.99    0.95      0.97   8127.0\n",
      "macro avg             0.90    0.79      0.80   8127.0\n",
      "weighted avg          0.99    0.95      0.96   8127.0\n",
      "mirai                 1.00    0.97      0.98   7351.0\n",
      "censys                0.92    0.93      0.92    336.0\n",
      "stretchoid            0.80    0.04      0.07    104.0\n",
      "internet-census       0.97    0.92      0.95    103.0\n",
      "binaryedge            0.99    0.97      0.98    101.0\n",
      "sharashka             0.94    0.88      0.91     50.0\n",
      "ipip                  0.55    0.76      0.64     49.0\n",
      "shodan                0.93    0.61      0.74     23.0\n",
      "engin-umich           1.00    1.00      1.00     10.0\n",
      "\n",
      "====================================================\n",
      "Domain Knowledge Based\n",
      "====================================================\n",
      "                 precision  recall  f1-score  support\n",
      "micro avg             0.99    0.94      0.96   8127.0\n",
      "macro avg             0.87    0.82      0.83   8127.0\n",
      "weighted avg          0.99    0.94      0.96   8127.0\n",
      "mirai                 1.00    0.95      0.98   7351.0\n",
      "censys                0.95    0.92      0.94    336.0\n",
      "stretchoid            0.53    0.09      0.15    104.0\n",
      "internet-census       0.97    0.98      0.98    103.0\n",
      "binaryedge            0.95    0.93      0.94    101.0\n",
      "sharashka             0.96    0.90      0.93     50.0\n",
      "ipip                  0.56    0.76      0.64     49.0\n",
      "shodan                0.95    0.87      0.91     23.0\n",
      "engin-umich           1.00    1.00      1.00     10.0\n",
      "\n",
      "====================================================\n",
      "Auto Defined\n",
      "====================================================\n",
      "                 precision  recall  f1-score  support\n",
      "micro avg             1.00    0.97      0.98   8127.0\n",
      "macro avg             0.97    0.87      0.90   8127.0\n",
      "weighted avg          1.00    0.97      0.98   8127.0\n",
      "mirai                 1.00    0.98      0.99   7351.0\n",
      "censys                0.99    1.00      0.99    336.0\n",
      "stretchoid            1.00    0.31      0.47    104.0\n",
      "internet-census       0.98    0.99      0.99    103.0\n",
      "binaryedge            0.98    1.00      0.99    101.0\n",
      "sharashka             1.00    1.00      1.00     50.0\n",
      "ipip                  0.78    0.57      0.66     49.0\n",
      "shodan                1.00    1.00      1.00     23.0\n",
      "engin-umich           1.00    1.00      1.00     10.0\n",
      "\n"
     ]
    }
   ],
   "source": [
    "mlist = [('ss', 5, 52), ('dk', 5, 152),\n",
    "         ('auto', 5, 200)]\n",
    "snames = {'ss':'Single', 'dk':'Domain Knowledge Based',\n",
    "          'auto':'Auto Defined', 'hybrid':'Hybrid'}\n",
    "for service, c, e in mlist:\n",
    "    model_path_name = f'model_gs_{service}_c{c}_e{e}'\n",
    "    w2v = Word2Vec(mname=f'{MODELS}/gridsearch/{model_path_name}')\n",
    "    w2v.load_model()\n",
    "    embeddings = w2v.get_embeddings(ips, lookup)\n",
    "\n",
    "    knn = KnnClassifier(embeddings, 5)\n",
    "    knn.fit_predict()\n",
    "    knnlabels = lookup[lookup['class']!='unknown']['class'].unique()\n",
    "    report = knn.get_report(output_dict=True, labels=knnlabels)\n",
    "    \n",
    "    to_replace = {'mirai':'Mirai-like', 'censys':'Censys',\n",
    "     'stretchoid': 'Stretchoid', 'internet-census':'Internet-census',\n",
    "     'binaryedge':'Binaryedge', 'sharashka':'Sharashka', 'ipip':'Ipip',\n",
    "     'shodan':'Shodan', 'engin-umich':'Engin-umich', 'weighted avg':'weighted avg',\n",
    "     'macro avg':'macro avg', 'micro avg':'micro avg'}\n",
    "\n",
    "    col_idx2 = ['Precision', 'Recall', 'F-Score', 'Support']\n",
    "    temp = pd.DataFrame(report).T.sort_values('support', ascending=False)\n",
    "    #temp.index = [v for k,v in to_replace.items()]\n",
    "    #temp.columns = col_idx2\n",
    "\n",
    "    print('====================================================')\n",
    "    print(snames[service])\n",
    "    print('====================================================')\n",
    "    print(temp.round(2))\n",
    "    print()"
   ]
  },
  {
   "cell_type": "code",
   "execution_count": 8,
   "id": "loved-chemical",
   "metadata": {},
   "outputs": [
    {
     "name": "stdout",
     "output_type": "stream",
     "text": [
      "(22399, 201)\n"
     ]
    },
    {
     "data": {
      "text/html": [
       "<div>\n",
       "<style scoped>\n",
       "    .dataframe tbody tr th:only-of-type {\n",
       "        vertical-align: middle;\n",
       "    }\n",
       "\n",
       "    .dataframe tbody tr th {\n",
       "        vertical-align: top;\n",
       "    }\n",
       "\n",
       "    .dataframe thead th {\n",
       "        text-align: right;\n",
       "    }\n",
       "</style>\n",
       "<table border=\"1\" class=\"dataframe\">\n",
       "  <thead>\n",
       "    <tr style=\"text-align: right;\">\n",
       "      <th></th>\n",
       "      <th>0</th>\n",
       "      <th>1</th>\n",
       "      <th>2</th>\n",
       "      <th>3</th>\n",
       "      <th>4</th>\n",
       "      <th>5</th>\n",
       "      <th>6</th>\n",
       "      <th>7</th>\n",
       "      <th>8</th>\n",
       "      <th>9</th>\n",
       "      <th>...</th>\n",
       "      <th>191</th>\n",
       "      <th>192</th>\n",
       "      <th>193</th>\n",
       "      <th>194</th>\n",
       "      <th>195</th>\n",
       "      <th>196</th>\n",
       "      <th>197</th>\n",
       "      <th>198</th>\n",
       "      <th>199</th>\n",
       "      <th>class</th>\n",
       "    </tr>\n",
       "    <tr>\n",
       "      <th>ip</th>\n",
       "      <th></th>\n",
       "      <th></th>\n",
       "      <th></th>\n",
       "      <th></th>\n",
       "      <th></th>\n",
       "      <th></th>\n",
       "      <th></th>\n",
       "      <th></th>\n",
       "      <th></th>\n",
       "      <th></th>\n",
       "      <th></th>\n",
       "      <th></th>\n",
       "      <th></th>\n",
       "      <th></th>\n",
       "      <th></th>\n",
       "      <th></th>\n",
       "      <th></th>\n",
       "      <th></th>\n",
       "      <th></th>\n",
       "      <th></th>\n",
       "      <th></th>\n",
       "    </tr>\n",
       "  </thead>\n",
       "  <tbody>\n",
       "    <tr>\n",
       "      <th>201.166.132.114</th>\n",
       "      <td>-0.311996</td>\n",
       "      <td>-0.151880</td>\n",
       "      <td>-0.126155</td>\n",
       "      <td>-0.072640</td>\n",
       "      <td>-0.178640</td>\n",
       "      <td>0.024080</td>\n",
       "      <td>-0.022133</td>\n",
       "      <td>0.057160</td>\n",
       "      <td>-0.323721</td>\n",
       "      <td>0.022568</td>\n",
       "      <td>...</td>\n",
       "      <td>0.283371</td>\n",
       "      <td>0.126785</td>\n",
       "      <td>0.275466</td>\n",
       "      <td>0.114976</td>\n",
       "      <td>0.073976</td>\n",
       "      <td>-0.138251</td>\n",
       "      <td>0.262670</td>\n",
       "      <td>-0.148449</td>\n",
       "      <td>-0.197116</td>\n",
       "      <td>unknown</td>\n",
       "    </tr>\n",
       "    <tr>\n",
       "      <th>172.245.10.231</th>\n",
       "      <td>-1.256613</td>\n",
       "      <td>-1.317889</td>\n",
       "      <td>-0.910986</td>\n",
       "      <td>-0.773604</td>\n",
       "      <td>-1.041731</td>\n",
       "      <td>0.157510</td>\n",
       "      <td>-0.035242</td>\n",
       "      <td>-0.574435</td>\n",
       "      <td>-0.953921</td>\n",
       "      <td>-0.234043</td>\n",
       "      <td>...</td>\n",
       "      <td>0.120722</td>\n",
       "      <td>0.061658</td>\n",
       "      <td>0.289806</td>\n",
       "      <td>0.052150</td>\n",
       "      <td>0.272534</td>\n",
       "      <td>0.037336</td>\n",
       "      <td>0.426259</td>\n",
       "      <td>-0.294904</td>\n",
       "      <td>0.005054</td>\n",
       "      <td>unknown</td>\n",
       "    </tr>\n",
       "    <tr>\n",
       "      <th>119.237.180.88</th>\n",
       "      <td>-0.090121</td>\n",
       "      <td>-0.085896</td>\n",
       "      <td>0.007295</td>\n",
       "      <td>-0.115396</td>\n",
       "      <td>-0.096167</td>\n",
       "      <td>0.018933</td>\n",
       "      <td>-0.014268</td>\n",
       "      <td>0.004455</td>\n",
       "      <td>-0.023784</td>\n",
       "      <td>0.002346</td>\n",
       "      <td>...</td>\n",
       "      <td>0.032283</td>\n",
       "      <td>0.021382</td>\n",
       "      <td>0.159330</td>\n",
       "      <td>0.020799</td>\n",
       "      <td>0.031832</td>\n",
       "      <td>-0.078330</td>\n",
       "      <td>0.073449</td>\n",
       "      <td>0.004153</td>\n",
       "      <td>-0.060807</td>\n",
       "      <td>unknown</td>\n",
       "    </tr>\n",
       "  </tbody>\n",
       "</table>\n",
       "<p>3 rows × 201 columns</p>\n",
       "</div>"
      ],
      "text/plain": [
       "                        0         1         2         3         4         5  \\\n",
       "ip                                                                            \n",
       "201.166.132.114 -0.311996 -0.151880 -0.126155 -0.072640 -0.178640  0.024080   \n",
       "172.245.10.231  -1.256613 -1.317889 -0.910986 -0.773604 -1.041731  0.157510   \n",
       "119.237.180.88  -0.090121 -0.085896  0.007295 -0.115396 -0.096167  0.018933   \n",
       "\n",
       "                        6         7         8         9  ...       191  \\\n",
       "ip                                                       ...             \n",
       "201.166.132.114 -0.022133  0.057160 -0.323721  0.022568  ...  0.283371   \n",
       "172.245.10.231  -0.035242 -0.574435 -0.953921 -0.234043  ...  0.120722   \n",
       "119.237.180.88  -0.014268  0.004455 -0.023784  0.002346  ...  0.032283   \n",
       "\n",
       "                      192       193       194       195       196       197  \\\n",
       "ip                                                                            \n",
       "201.166.132.114  0.126785  0.275466  0.114976  0.073976 -0.138251  0.262670   \n",
       "172.245.10.231   0.061658  0.289806  0.052150  0.272534  0.037336  0.426259   \n",
       "119.237.180.88   0.021382  0.159330  0.020799  0.031832 -0.078330  0.073449   \n",
       "\n",
       "                      198       199    class  \n",
       "ip                                            \n",
       "201.166.132.114 -0.148449 -0.197116  unknown  \n",
       "172.245.10.231  -0.294904  0.005054  unknown  \n",
       "119.237.180.88   0.004153 -0.060807  unknown  \n",
       "\n",
       "[3 rows x 201 columns]"
      ]
     },
     "execution_count": 8,
     "metadata": {},
     "output_type": "execute_result"
    }
   ],
   "source": [
    "# Load the final model\n",
    "model_path_name = f'word2vec_auto_c5_e200'\n",
    "w2v = Word2Vec(mname=f'{MODELS}/word2vec/{model_path_name}')\n",
    "w2v.load_model()\n",
    "# Retrieve the embeddings\n",
    "embeddings = w2v.get_embeddings(ips, lookup)\n",
    "\n",
    "print(embeddings.shape)\n",
    "embeddings.head(3)"
   ]
  },
  {
   "cell_type": "code",
   "execution_count": 11,
   "id": "dried-jonathan",
   "metadata": {},
   "outputs": [],
   "source": [
    "if not DEMONSTRATIVE:\n",
    "    X = embeddings.drop(columns=['class'])\n",
    "else:\n",
    "    X = embeddings.iloc[:500].drop(columns=['class'])\n",
    "dist = distances(X, X, metric='cosine')\n",
    "\n",
    "tsne = TSNE(n_components=2, random_state=15, metric='precomputed').fit_transform(dist)\n",
    "df = pd.DataFrame(tsne, columns=['x', 'y'])\n",
    "if not DEMONSTRATIVE:\n",
    "    df.to_csv(f'{DATASETS}/tsne.csv')"
   ]
  },
  {
   "cell_type": "code",
   "execution_count": 12,
   "id": "immediate-oracle",
   "metadata": {},
   "outputs": [
    {
     "data": {
      "text/plain": [
       "<Figure size 640x480 with 0 Axes>"
      ]
     },
     "metadata": {},
     "output_type": "display_data"
    },
    {
     "data": {
      "image/png": "[encoded data removed]",
      "text/plain": [
       "<Figure size 500x350 with 1 Axes>"
      ]
     },
     "metadata": {},
     "output_type": "display_data"
    }
   ],
   "source": [
    "%matplotlib inline\n",
    "plot = fastplot.plot(None,  None, mode = 'callback', callback = lambda plt: densityPlot(plt, df),\n",
    "                      figsize=(5, 3.5), fontsize=14, style='latex')\n",
    "if not DEMONSTRATIVE:\n",
    "    plot.savefig('reports/figures/density_kde.pdf')\n",
    "plot.show()"
   ]
  }
 ],
 "metadata": {
  "kernelspec": {
   "display_name": "Python 3",
   "language": "python",
   "name": "python3"
  },
  "language_info": {
   "codemirror_mode": {
    "name": "ipython",
    "version": 3
   },
   "file_extension": ".py",
   "mimetype": "text/x-python",
   "name": "python",
   "nbconvert_exporter": "python",
   "pygments_lexer": "ipython3",
   "version": "3.7.9"
  }
 },
 "nbformat": 4,
 "nbformat_minor": 5
}
