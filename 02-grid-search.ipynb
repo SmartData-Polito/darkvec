{
 "cells": [
  {
   "cell_type": "markdown",
   "id": "studied-release",
   "metadata": {},
   "source": [
    "# <b>DarkVec: Automatic Analysis of Darknet Trafficwith Word Embeddings</b>\n",
    "## <b>Semi-supervised Approach: Grid Search</b>"
   ]
  },
  {
   "cell_type": "markdown",
   "id": "boring-coupon",
   "metadata": {},
   "source": [
    "___\n",
    "# <b>Table of Content</b> <a id=\"toc\"></a>\n",
    "* [<b>Semi-supervised Approach: Grid Search</b>](#gs)  \n",
    "  * [Training Window Size](#gstrainwindow)  \n",
    "  * [$k$ of k-Nearest-Neighbors Classifier](#gsk)  \n",
    "  * [DarkVec Parameters Tuning](#gsdarkvec)  \n",
    "    * [Auto-defined Languages](#auto)\n",
    "    * [Per-service Languages](#perservice)\n",
    "  * [7-NN classifier report](#7nnreport)  \n",
    "* [<b>State of Art Comparison</b>](#soa)\n",
    "  * [DarkVec 5 Days](#darkveccomp)\n",
    "  * [IP2VEC 5 Days](#ip2veccomp)\n",
    "  \n",
    "In this notebook we report the experiments with the semi-supervised approach. Namely we report two main experiments:\n",
    "1) DarkVec parameters grid search. Here we run experiments about the impact of the training window size, $k$ of the k-nearest-neighbors classifier and the word2vec parameters (context window size, languages and embedding size).\n",
    "\n",
    "2) State of the Art comparison. Here we run a knn classifier on the IP2VEC and DarKvec generated embeddings. The models are trained over 5 days, since only DarkVec was able to finish the training dor 30 days. We excluded the DANTE methodology since it fails in generating the corpus in reasonable time.\n",
    "\n",
    "___\n",
    "***Note:*** All the code and data we provide are the ones included in the paper. To speed up the notebook execution, by default we trim the files when reading them. Comments on how to run on complete files are provided in the notebook. Note that running the notebook with the complete dataset requires *a PC with significant amount of memory*. "
   ]
  },
  {
   "cell_type": "code",
   "execution_count": 1,
   "id": "transparent-identifier",
   "metadata": {},
   "outputs": [],
   "source": [
    "from config import *\n",
    "from src.callbacks import *\n",
    "from src.utils import *\n",
    "import pandas as pd\n",
    "import numpy as np\n",
    "import warnings\n",
    "import json\n",
    "from glob import glob\n",
    "\n",
    "from sklearn.neighbors import KNeighborsClassifier as KNN\n",
    "from sklearn.metrics import classification_report as report\n",
    "from sklearn.metrics import accuracy_score as accuracy\n",
    "from src.knngraph import *\n",
    "\n",
    "from pandas.core.common import SettingWithCopyWarning\n",
    "from pandas.errors import DtypeWarning\n",
    "\n",
    "warnings.filterwarnings(\"ignore\", category=UserWarning)\n",
    "warnings.filterwarnings(\"ignore\", category=FutureWarning)\n",
    "warnings.filterwarnings(\"ignore\", category=SettingWithCopyWarning)\n",
    "warnings.filterwarnings(\"ignore\", category=DtypeWarning)"
   ]
  },
  {
   "cell_type": "code",
   "execution_count": 2,
   "id": "round-potato",
   "metadata": {},
   "outputs": [],
   "source": [
    "import matplotlib.pyplot as plt\n",
    "%matplotlib inline\n",
    "import fastplot\n",
    "from cycler import cycler\n",
    "\n",
    "cc = (cycler('color',['k', 'r', 'b', 'g', 'y', 'm', 'c'])+\n",
    "      cycler('linestyle',['-', '--', '-.', ':', '-', '--', '-.']))"
   ]
  },
  {
   "cell_type": "markdown",
   "id": "improving-annotation",
   "metadata": {},
   "source": [
    "___\n",
    "# <b>Grid Search</b> <a name=\"gs\"></a>\n"
   ]
  },
  {
   "cell_type": "code",
   "execution_count": 3,
   "id": "leading-theme",
   "metadata": {},
   "outputs": [],
   "source": [
    "with open(f'{DATASETS}/ips.json', 'r') as file:\n",
    "    filters = json.loads(file.read())"
   ]
  },
  {
   "cell_type": "code",
   "execution_count": 4,
   "id": "collaborative-nurse",
   "metadata": {},
   "outputs": [
    {
     "data": {
      "text/html": [
       "<div>\n",
       "<style scoped>\n",
       "    .dataframe tbody tr th:only-of-type {\n",
       "        vertical-align: middle;\n",
       "    }\n",
       "\n",
       "    .dataframe tbody tr th {\n",
       "        vertical-align: top;\n",
       "    }\n",
       "\n",
       "    .dataframe thead th {\n",
       "        text-align: right;\n",
       "    }\n",
       "</style>\n",
       "<table border=\"1\" class=\"dataframe\">\n",
       "  <thead>\n",
       "    <tr style=\"text-align: right;\">\n",
       "      <th></th>\n",
       "      <th>ts</th>\n",
       "      <th>ip</th>\n",
       "      <th>port</th>\n",
       "      <th>proto</th>\n",
       "      <th>pp</th>\n",
       "      <th>class</th>\n",
       "    </tr>\n",
       "  </thead>\n",
       "  <tbody>\n",
       "    <tr>\n",
       "      <th>0</th>\n",
       "      <td>2021-03-31 08:29:08.449076</td>\n",
       "      <td>192.3.136.75</td>\n",
       "      <td>1970</td>\n",
       "      <td>TCP</td>\n",
       "      <td>1970/TCP</td>\n",
       "      <td>unknown</td>\n",
       "    </tr>\n",
       "    <tr>\n",
       "      <th>1</th>\n",
       "      <td>2021-03-31 08:29:08.449088</td>\n",
       "      <td>192.3.136.75</td>\n",
       "      <td>1970</td>\n",
       "      <td>TCP</td>\n",
       "      <td>1970/TCP</td>\n",
       "      <td>unknown</td>\n",
       "    </tr>\n",
       "    <tr>\n",
       "      <th>2</th>\n",
       "      <td>2021-03-31 08:29:08.451478</td>\n",
       "      <td>192.3.136.75</td>\n",
       "      <td>1970</td>\n",
       "      <td>TCP</td>\n",
       "      <td>1970/TCP</td>\n",
       "      <td>unknown</td>\n",
       "    </tr>\n",
       "    <tr>\n",
       "      <th>3</th>\n",
       "      <td>2021-03-31 08:29:08.451491</td>\n",
       "      <td>192.3.136.75</td>\n",
       "      <td>1970</td>\n",
       "      <td>TCP</td>\n",
       "      <td>1970/TCP</td>\n",
       "      <td>unknown</td>\n",
       "    </tr>\n",
       "    <tr>\n",
       "      <th>4</th>\n",
       "      <td>2021-03-31 08:29:08.459322</td>\n",
       "      <td>172.245.10.231</td>\n",
       "      <td>3956</td>\n",
       "      <td>TCP</td>\n",
       "      <td>3956/TCP</td>\n",
       "      <td>unknown</td>\n",
       "    </tr>\n",
       "  </tbody>\n",
       "</table>\n",
       "</div>"
      ],
      "text/plain": [
       "                           ts              ip  port proto        pp    class\n",
       "0  2021-03-31 08:29:08.449076    192.3.136.75  1970   TCP  1970/TCP  unknown\n",
       "1  2021-03-31 08:29:08.449088    192.3.136.75  1970   TCP  1970/TCP  unknown\n",
       "2  2021-03-31 08:29:08.451478    192.3.136.75  1970   TCP  1970/TCP  unknown\n",
       "3  2021-03-31 08:29:08.451491    192.3.136.75  1970   TCP  1970/TCP  unknown\n",
       "4  2021-03-31 08:29:08.459322  172.245.10.231  3956   TCP  3956/TCP  unknown"
      ]
     },
     "execution_count": 4,
     "metadata": {},
     "output_type": "execute_result"
    }
   ],
   "source": [
    "last_day = pd.read_csv(f'{DATASETS}/darknet_d1.csv.gz')\n",
    "last_day = last_day[last_day.ip.isin(filters['d1_f30'])]\n",
    "last_day.head()"
   ]
  },
  {
   "cell_type": "markdown",
   "id": "vital-butler",
   "metadata": {},
   "source": [
    "### <b>Training Window Size</b> <a name=\"gstrainwindow\"></a>  \n",
    "\n",
    "\n",
    "We evaluate the impact of the training window size on the coverage. The greatest the coverage, the more accurate will be the embeddings."
   ]
  },
  {
   "cell_type": "code",
   "execution_count": 5,
   "id": "attended-skirt",
   "metadata": {},
   "outputs": [],
   "source": [
    "def extract_window_size_df(files, tr_days):\n",
    "    \"\"\"Load the traces from the file and perform the window size experiment\n",
    "\n",
    "    Parameters\n",
    "    ----------\n",
    "    files : list\n",
    "        list of files to load\n",
    "    tr_days : i\n",
    "        index of the training days\n",
    "\n",
    "    Returns\n",
    "    -------\n",
    "    pandas.DataFrame\n",
    "        training window experiment results\n",
    "    \"\"\"\n",
    "    f_list = []\n",
    "    _files = []\n",
    "    s_ips = []\n",
    "    for i in tr_days[:-1]:\n",
    "        f_list = []\n",
    "        _files = []\n",
    "        for x in files[-i:]: _files = _files + glob(x[7:])\n",
    "        f_list.append(_files)\n",
    "        for batch in f_list:\n",
    "            df = pd.concat([pd.read_csv(_file, sep=' ') for _file in batch])\\\n",
    "                   .value_counts('src_ip')\n",
    "            df = df[(df>=10) & (df.index.isin(known_ips))]\n",
    "            coverage = len(df.index)*100/len(known_ips)\n",
    "            s_ips.append(coverage)\n",
    "    gs_train_window = [(tr_days[i], s_ips[i]) for i in range(len(tr_days)-1)]\n",
    "    gs_train_window.append((tr_days[-1], 100.0))\n",
    "    gs_train_window = pd.DataFrame(gs_train_window, columns=['training_days', 'ip_set'])\n",
    "    \n",
    "    return gs_train_window"
   ]
  },
  {
   "cell_type": "code",
   "execution_count": 6,
   "id": "soviet-sellers",
   "metadata": {},
   "outputs": [
    {
     "data": {
      "text/html": [
       "<div>\n",
       "<style scoped>\n",
       "    .dataframe tbody tr th:only-of-type {\n",
       "        vertical-align: middle;\n",
       "    }\n",
       "\n",
       "    .dataframe tbody tr th {\n",
       "        vertical-align: top;\n",
       "    }\n",
       "\n",
       "    .dataframe thead th {\n",
       "        text-align: right;\n",
       "    }\n",
       "</style>\n",
       "<table border=\"1\" class=\"dataframe\">\n",
       "  <thead>\n",
       "    <tr style=\"text-align: right;\">\n",
       "      <th></th>\n",
       "      <th>training_days</th>\n",
       "      <th>ip_set</th>\n",
       "    </tr>\n",
       "  </thead>\n",
       "  <tbody>\n",
       "    <tr>\n",
       "      <th>0</th>\n",
       "      <td>1</td>\n",
       "      <td>32.582749</td>\n",
       "    </tr>\n",
       "    <tr>\n",
       "      <th>1</th>\n",
       "      <td>2</td>\n",
       "      <td>57.585825</td>\n",
       "    </tr>\n",
       "    <tr>\n",
       "      <th>2</th>\n",
       "      <td>3</td>\n",
       "      <td>69.595177</td>\n",
       "    </tr>\n",
       "    <tr>\n",
       "      <th>3</th>\n",
       "      <td>4</td>\n",
       "      <td>76.596530</td>\n",
       "    </tr>\n",
       "    <tr>\n",
       "      <th>4</th>\n",
       "      <td>5</td>\n",
       "      <td>81.826012</td>\n",
       "    </tr>\n",
       "    <tr>\n",
       "      <th>5</th>\n",
       "      <td>10</td>\n",
       "      <td>90.599237</td>\n",
       "    </tr>\n",
       "    <tr>\n",
       "      <th>6</th>\n",
       "      <td>20</td>\n",
       "      <td>97.194537</td>\n",
       "    </tr>\n",
       "    <tr>\n",
       "      <th>7</th>\n",
       "      <td>30</td>\n",
       "      <td>100.000000</td>\n",
       "    </tr>\n",
       "  </tbody>\n",
       "</table>\n",
       "</div>"
      ],
      "text/plain": [
       "   training_days      ip_set\n",
       "0              1   32.582749\n",
       "1              2   57.585825\n",
       "2              3   69.595177\n",
       "3              4   76.596530\n",
       "4              5   81.826012\n",
       "5             10   90.599237\n",
       "6             20   97.194537\n",
       "7             30  100.000000"
      ]
     },
     "execution_count": 6,
     "metadata": {},
     "output_type": "execute_result"
    }
   ],
   "source": [
    "files = DEBUG.split(',')\n",
    "tr_days = [1, 2, 3, 4, 5, 10, 20, 30]\n",
    "known_ips = set(last_day[last_day['class']!='unknown'].ip.unique())\n",
    "\n",
    "#gs_train_window = extract_window_size_df(files, tr_days)\n",
    "#gs_train_window.to_csv(f'{GRIDSEARCH}/training_window.csv', index=False)\n",
    "\n",
    "gs_train_window = pd.read_csv(f'{GRIDSEARCH}/training_window.csv')\n",
    "gs_train_window"
   ]
  },
  {
   "cell_type": "code",
   "execution_count": 7,
   "id": "spare-beauty",
   "metadata": {},
   "outputs": [
    {
     "data": {
      "text/plain": [
       "<Figure size 640x480 with 0 Axes>"
      ]
     },
     "metadata": {},
     "output_type": "display_data"
    },
    {
     "data": {
      "image/png": "[encoded data removed]",
      "text/plain": [
       "<Figure size 500x350 with 1 Axes>"
      ]
     },
     "metadata": {},
     "output_type": "display_data"
    }
   ],
   "source": [
    "%matplotlib inline\n",
    "plot = fastplot.plot(None,  None, mode = 'callback', callback = lambda plt: fig5(plt, gs_train_window),\n",
    "                     style='latex', figsize=(5, 3.5), fontsize=14)\n",
    "plot.show()"
   ]
  },
  {
   "cell_type": "markdown",
   "id": "experienced-groove",
   "metadata": {},
   "source": [
    "### <b> $k$ of k-Nearest-Neighbors Classifier</b> <a name=\"gsk\"></a>  \n",
    "\n",
    "\n",
    "Then we test both the impact of $k$ of the k-nearest-neighbor classifier and the three different languages definition:\n",
    "* Single language\n",
    "* Auto-defined languages\n",
    "* Per-service languages"
   ]
  },
  {
   "cell_type": "code",
   "execution_count": 8,
   "id": "removable-nigeria",
   "metadata": {},
   "outputs": [],
   "source": [
    "def run_gs_knn_k(X, y, X_test, y_test):\n",
    "    \"\"\"Perform the experiment on the impact of k of the knn classifier\n",
    "\n",
    "    Parameters\n",
    "    ----------\n",
    "    X : numpy.ndarray\n",
    "        training dataset\n",
    "    y : numpy.ndarray\n",
    "        training dataset labels\n",
    "    X_test : numpy.ndarray\n",
    "        testing dataset\n",
    "    y_test : numpy.ndarray\n",
    "        testing dataset labels\n",
    "\n",
    "    Returns\n",
    "    -------\n",
    "    tuple\n",
    "        list of tested ks and list of tested accuracy\n",
    "    \"\"\"\n",
    "    LIMIT = X_test.shape[0]\n",
    "    accs = []\n",
    "    ks = []\n",
    "    cols = [str(i) for i in range(LIMIT)]\n",
    "    for k_ in np.arange(2, 42):\n",
    "        preds = []\n",
    "        knn = KNN(n_neighbors=k_, metric='cosine', n_jobs=-1)\n",
    "        knn.fit(X, y)\n",
    "        pred_idx = knn.kneighbors(X_test[:LIMIT])[1][:, 1:]\n",
    "        pred_lab = y[pred_idx]\n",
    "        preds1 = [get_freqs(i) for i in pred_lab]\n",
    "        accs.append(round(accuracy(y_test[:LIMIT], preds1), 2))\n",
    "        ks.append(k_-1)\n",
    "    \n",
    "    _x_ = [ks[i] for i in range(len(ks)) if i%2 == 0]\n",
    "    _y_ = [accs[i] for i in range(len(ks)) if i%2 == 0]\n",
    "    \n",
    "    return _x_, _y_"
   ]
  },
  {
   "cell_type": "code",
   "execution_count": 9,
   "id": "printable-pillow",
   "metadata": {},
   "outputs": [],
   "source": [
    "def extract_accuracy_res(ls, cs, vs):\n",
    "    \"\"\"Extract the accuracy from the k of knn classifier impact experiment\n",
    "\n",
    "    Parameters\n",
    "    ----------\n",
    "    ls : list\n",
    "        list of type of language used to generate the corpus\n",
    "    cs : list\n",
    "        list of context window size\n",
    "    vs : list\n",
    "        list of embedding size \n",
    "\n",
    "    Returns\n",
    "    -------\n",
    "    pandas.DataFrame\n",
    "        results of the experiment\n",
    "    \"\"\"\n",
    "    res = {}\n",
    "    for i in range(3):\n",
    "        # Load model\n",
    "        mname = f'{ls[i]}_c{cs[i]}_v{vs[i]}_iter20'\n",
    "        model = load_model(mname)\n",
    "        # Retrieve embeddings\n",
    "        dataset = last_day[['ip', 'class']].drop_duplicates()\n",
    "        embeddings = get_scaled_embeddings(dataset, model, mname, True)\n",
    "        # Run the kNN classifier\n",
    "        X, y, X_test, y_test = split_train_test(embeddings, with_unknown=False)\n",
    "        _x, _y = run_gs_knn_k(X, y, X_test, y_test)\n",
    "        # Update outputs\n",
    "        res[ls[i]] = {'x':_x, 'y':_y}\n",
    "        \n",
    "    knn_accs = pd.concat([pd.DataFrame(res[ls[i]])\\\n",
    "                 .rename(columns={'x':f'{ls[i]}_x', \n",
    "                                  'y':f'{ls[i]}_y'}) for i in range(3)],\n",
    "                         axis=1)\n",
    "    return knn_accs"
   ]
  },
  {
   "cell_type": "code",
   "execution_count": 10,
   "id": "verbal-mercy",
   "metadata": {},
   "outputs": [
    {
     "data": {
      "text/html": [
       "<div>\n",
       "<style scoped>\n",
       "    .dataframe tbody tr th:only-of-type {\n",
       "        vertical-align: middle;\n",
       "    }\n",
       "\n",
       "    .dataframe tbody tr th {\n",
       "        vertical-align: top;\n",
       "    }\n",
       "\n",
       "    .dataframe thead th {\n",
       "        text-align: right;\n",
       "    }\n",
       "</style>\n",
       "<table border=\"1\" class=\"dataframe\">\n",
       "  <thead>\n",
       "    <tr style=\"text-align: right;\">\n",
       "      <th></th>\n",
       "      <th>single_x</th>\n",
       "      <th>single_y</th>\n",
       "      <th>auto_x</th>\n",
       "      <th>auto_y</th>\n",
       "      <th>service_x</th>\n",
       "      <th>service_y</th>\n",
       "    </tr>\n",
       "  </thead>\n",
       "  <tbody>\n",
       "    <tr>\n",
       "      <th>0</th>\n",
       "      <td>1</td>\n",
       "      <td>0.37</td>\n",
       "      <td>1</td>\n",
       "      <td>0.86</td>\n",
       "      <td>1</td>\n",
       "      <td>0.84</td>\n",
       "    </tr>\n",
       "    <tr>\n",
       "      <th>1</th>\n",
       "      <td>3</td>\n",
       "      <td>0.67</td>\n",
       "      <td>3</td>\n",
       "      <td>0.94</td>\n",
       "      <td>3</td>\n",
       "      <td>0.93</td>\n",
       "    </tr>\n",
       "    <tr>\n",
       "      <th>2</th>\n",
       "      <td>5</td>\n",
       "      <td>0.79</td>\n",
       "      <td>5</td>\n",
       "      <td>0.96</td>\n",
       "      <td>5</td>\n",
       "      <td>0.95</td>\n",
       "    </tr>\n",
       "    <tr>\n",
       "      <th>3</th>\n",
       "      <td>7</td>\n",
       "      <td>0.84</td>\n",
       "      <td>7</td>\n",
       "      <td>0.96</td>\n",
       "      <td>7</td>\n",
       "      <td>0.96</td>\n",
       "    </tr>\n",
       "    <tr>\n",
       "      <th>4</th>\n",
       "      <td>9</td>\n",
       "      <td>0.86</td>\n",
       "      <td>9</td>\n",
       "      <td>0.96</td>\n",
       "      <td>9</td>\n",
       "      <td>0.96</td>\n",
       "    </tr>\n",
       "  </tbody>\n",
       "</table>\n",
       "</div>"
      ],
      "text/plain": [
       "   single_x  single_y  auto_x  auto_y  service_x  service_y\n",
       "0         1      0.37       1    0.86          1       0.84\n",
       "1         3      0.67       3    0.94          3       0.93\n",
       "2         5      0.79       5    0.96          5       0.95\n",
       "3         7      0.84       7    0.96          7       0.96\n",
       "4         9      0.86       9    0.96          9       0.96"
      ]
     },
     "execution_count": 10,
     "metadata": {},
     "output_type": "execute_result"
    }
   ],
   "source": [
    "cs = [75, 50, 25]\n",
    "vs = [50, 50, 50]\n",
    "ls = ['single', 'auto', 'service']\n",
    "\n",
    "#knn_accs = extract_accuracy_res(ls, cs, vs)\n",
    "#knn_accs.to_csv(f'{GRIDSEARCH}/knn_k.csv', index=False)\n",
    "\n",
    "knn_accs = pd.read_csv(f'{GRIDSEARCH}/knn_k.csv')\n",
    "knn_accs.head()"
   ]
  },
  {
   "cell_type": "code",
   "execution_count": 11,
   "id": "solid-recipe",
   "metadata": {},
   "outputs": [
    {
     "name": "stderr",
     "output_type": "stream",
     "text": [
      "findfont: Font family ['serif'] not found. Falling back to DejaVu Sans.\n"
     ]
    },
    {
     "data": {
      "text/plain": [
       "<Figure size 640x480 with 0 Axes>"
      ]
     },
     "metadata": {},
     "output_type": "display_data"
    },
    {
     "data": {
      "image/png": "[encoded data removed]",
      "text/plain": [
       "<Figure size 500x350 with 1 Axes>"
      ]
     },
     "metadata": {},
     "output_type": "display_data"
    }
   ],
   "source": [
    "%matplotlib inline\n",
    "plot = fastplot.plot(None,  None, mode = 'callback', callback = lambda plt: fig6(plt, knn_accs),\n",
    "                     style='latex', figsize=(5, 3.5), fontsize=14)\n",
    "plot.show()"
   ]
  },
  {
   "cell_type": "markdown",
   "id": "editorial-thermal",
   "metadata": {},
   "source": [
    "### <b>DarkVec Parameters Tuning</b> <a name=\"gsdarkvec\"></a>  \n",
    "\n",
    "\n",
    "Grid Search for the Word2Vec parameters tuning. We test different sets of embedding size $V$ and context window size $C$. We perform the analysis in terms of knn classifier accuracy on the last day ground truth and training runtimes in seconds.\n",
    "\n",
    "According to the single language results achieved in the [previous experiment](#gsk) we omit the single language from the grid search"
   ]
  },
  {
   "cell_type": "code",
   "execution_count": 12,
   "id": "explicit-study",
   "metadata": {},
   "outputs": [],
   "source": [
    "def grid_search_step(language, c, v):\n",
    "    \"\"\"Perform one step of the grid search running the knn classifier. Load\n",
    "    a single model\n",
    "\n",
    "    Parameters\n",
    "    ----------\n",
    "    language : str\n",
    "        type of language used to generate the corpus\n",
    "    c : int\n",
    "        context window size\n",
    "    v : int\n",
    "        embedding size \n",
    "\n",
    "    Returns\n",
    "    -------\n",
    "    float\n",
    "        knn classifier accuracy\n",
    "    \"\"\"\n",
    "    mname = f'{language}_c{c}_v{v}_iter20'\n",
    "    model = load_model(mname)\n",
    "    # Retrieve embeddings\n",
    "    dataset = last_day[['ip', 'class']].drop_duplicates()\n",
    "    embeddings = get_scaled_embeddings(dataset, model, mname, True)\n",
    "    # Run the kNN classifier\n",
    "    X, y, X_test, y_test = split_train_test(embeddings, with_unknown=False)\n",
    "    y_true = y_test\n",
    "    y_pred = fit_predict(X, y, X_test, y_test)\n",
    "    # Get accuracy\n",
    "    acc = report(y_true, y_pred, output_dict=True)['weighted avg']['recall']\n",
    "    \n",
    "    return acc"
   ]
  },
  {
   "cell_type": "code",
   "execution_count": 13,
   "id": "french-spare",
   "metadata": {},
   "outputs": [],
   "source": [
    "Vs = [50, 100, 150, 200]\n",
    "Cs = [5, 25, 50, 75]"
   ]
  },
  {
   "cell_type": "raw",
   "id": "personalized-potential",
   "metadata": {},
   "source": [
    "dfs = []\n",
    "for m in ['service', 'auto']:\n",
    "    res = []\n",
    "    for v in Vs:\n",
    "        for c in Cs:\n",
    "            step_val = grid_search_step(m, c, v)\n",
    "            res.append((c, v, step_val))\n",
    "    dfs.append(pd.DataFrame(res, columns=[f'{m}_c', f'{m}_v',f'{m}_acc']))"
   ]
  },
  {
   "cell_type": "code",
   "execution_count": 14,
   "id": "asian-genesis",
   "metadata": {},
   "outputs": [
    {
     "data": {
      "text/html": [
       "<div>\n",
       "<style scoped>\n",
       "    .dataframe tbody tr th:only-of-type {\n",
       "        vertical-align: middle;\n",
       "    }\n",
       "\n",
       "    .dataframe tbody tr th {\n",
       "        vertical-align: top;\n",
       "    }\n",
       "\n",
       "    .dataframe thead th {\n",
       "        text-align: right;\n",
       "    }\n",
       "</style>\n",
       "<table border=\"1\" class=\"dataframe\">\n",
       "  <thead>\n",
       "    <tr style=\"text-align: right;\">\n",
       "      <th></th>\n",
       "      <th>service_c</th>\n",
       "      <th>service_v</th>\n",
       "      <th>service_acc</th>\n",
       "      <th>auto_c</th>\n",
       "      <th>auto_v</th>\n",
       "      <th>auto_acc</th>\n",
       "    </tr>\n",
       "  </thead>\n",
       "  <tbody>\n",
       "    <tr>\n",
       "      <th>0</th>\n",
       "      <td>5</td>\n",
       "      <td>50</td>\n",
       "      <td>0.952996</td>\n",
       "      <td>5</td>\n",
       "      <td>50</td>\n",
       "      <td>0.948074</td>\n",
       "    </tr>\n",
       "    <tr>\n",
       "      <th>1</th>\n",
       "      <td>25</td>\n",
       "      <td>50</td>\n",
       "      <td>0.956811</td>\n",
       "      <td>25</td>\n",
       "      <td>50</td>\n",
       "      <td>0.964193</td>\n",
       "    </tr>\n",
       "    <tr>\n",
       "      <th>2</th>\n",
       "      <td>50</td>\n",
       "      <td>50</td>\n",
       "      <td>0.954104</td>\n",
       "      <td>50</td>\n",
       "      <td>50</td>\n",
       "      <td>0.963701</td>\n",
       "    </tr>\n",
       "    <tr>\n",
       "      <th>3</th>\n",
       "      <td>75</td>\n",
       "      <td>50</td>\n",
       "      <td>0.951643</td>\n",
       "      <td>75</td>\n",
       "      <td>50</td>\n",
       "      <td>0.961363</td>\n",
       "    </tr>\n",
       "    <tr>\n",
       "      <th>4</th>\n",
       "      <td>5</td>\n",
       "      <td>100</td>\n",
       "      <td>0.950166</td>\n",
       "      <td>5</td>\n",
       "      <td>100</td>\n",
       "      <td>0.938108</td>\n",
       "    </tr>\n",
       "  </tbody>\n",
       "</table>\n",
       "</div>"
      ],
      "text/plain": [
       "   service_c  service_v  service_acc  auto_c  auto_v  auto_acc\n",
       "0          5         50     0.952996       5      50  0.948074\n",
       "1         25         50     0.956811      25      50  0.964193\n",
       "2         50         50     0.954104      50      50  0.963701\n",
       "3         75         50     0.951643      75      50  0.961363\n",
       "4          5        100     0.950166       5     100  0.938108"
      ]
     },
     "execution_count": 14,
     "metadata": {},
     "output_type": "execute_result"
    }
   ],
   "source": [
    "#parameter_tuning = pd.concat(dfs, axis=1)\n",
    "#parameter_tuning.to_csv(f'{GRIDSEARCH}parameter_tuning.csv', index=False)\n",
    "\n",
    "parameter_tuning = pd.read_csv(f'{GRIDSEARCH}/parameter_tuning.csv')\n",
    "heatmaps = [parameter_tuning.pivot_table(\n",
    "    index=f'{m}_v', columns=f'{m}_c', values=f'{m}_acc') for m in ['service', 'auto']]\n",
    "\n",
    "parameter_tuning.head()"
   ]
  },
  {
   "cell_type": "code",
   "execution_count": 15,
   "id": "norman-speaking",
   "metadata": {},
   "outputs": [
    {
     "data": {
      "text/html": [
       "<div>\n",
       "<style scoped>\n",
       "    .dataframe tbody tr th:only-of-type {\n",
       "        vertical-align: middle;\n",
       "    }\n",
       "\n",
       "    .dataframe tbody tr th {\n",
       "        vertical-align: top;\n",
       "    }\n",
       "\n",
       "    .dataframe thead th {\n",
       "        text-align: right;\n",
       "    }\n",
       "</style>\n",
       "<table border=\"1\" class=\"dataframe\">\n",
       "  <thead>\n",
       "    <tr style=\"text-align: right;\">\n",
       "      <th></th>\n",
       "      <th>service_c</th>\n",
       "      <th>service_v</th>\n",
       "      <th>service_times</th>\n",
       "      <th>auto_c</th>\n",
       "      <th>auto_v</th>\n",
       "      <th>auto_times</th>\n",
       "    </tr>\n",
       "  </thead>\n",
       "  <tbody>\n",
       "    <tr>\n",
       "      <th>0</th>\n",
       "      <td>50</td>\n",
       "      <td>100</td>\n",
       "      <td>2.526389</td>\n",
       "      <td>5</td>\n",
       "      <td>200</td>\n",
       "      <td>0.276389</td>\n",
       "    </tr>\n",
       "    <tr>\n",
       "      <th>1</th>\n",
       "      <td>75</td>\n",
       "      <td>100</td>\n",
       "      <td>3.716111</td>\n",
       "      <td>25</td>\n",
       "      <td>200</td>\n",
       "      <td>1.081944</td>\n",
       "    </tr>\n",
       "    <tr>\n",
       "      <th>2</th>\n",
       "      <td>5</td>\n",
       "      <td>50</td>\n",
       "      <td>0.372500</td>\n",
       "      <td>50</td>\n",
       "      <td>200</td>\n",
       "      <td>2.051667</td>\n",
       "    </tr>\n",
       "    <tr>\n",
       "      <th>3</th>\n",
       "      <td>25</td>\n",
       "      <td>50</td>\n",
       "      <td>1.153333</td>\n",
       "      <td>75</td>\n",
       "      <td>200</td>\n",
       "      <td>2.919444</td>\n",
       "    </tr>\n",
       "    <tr>\n",
       "      <th>4</th>\n",
       "      <td>50</td>\n",
       "      <td>50</td>\n",
       "      <td>2.165000</td>\n",
       "      <td>5</td>\n",
       "      <td>50</td>\n",
       "      <td>0.318056</td>\n",
       "    </tr>\n",
       "  </tbody>\n",
       "</table>\n",
       "</div>"
      ],
      "text/plain": [
       "   service_c  service_v  service_times  auto_c  auto_v  auto_times\n",
       "0         50        100       2.526389       5     200    0.276389\n",
       "1         75        100       3.716111      25     200    1.081944\n",
       "2          5         50       0.372500      50     200    2.051667\n",
       "3         25         50       1.153333      75     200    2.919444\n",
       "4         50         50       2.165000       5      50    0.318056"
      ]
     },
     "execution_count": 15,
     "metadata": {},
     "output_type": "execute_result"
    }
   ],
   "source": [
    "runtime = pd.read_csv(f'{GRIDSEARCH}/training_runtime.csv')\n",
    "heatmaps_time = [runtime.pivot_table(\n",
    "    index=f'{m}_v', columns=f'{m}_c', values=f'{m}_times') for m in ['service', 'auto']]\n",
    "\n",
    "runtime.head()"
   ]
  },
  {
   "cell_type": "markdown",
   "id": "informal-adoption",
   "metadata": {},
   "source": [
    "### <b>Auto-defined Languages</b> <a name=\"auto\"></a>  \n"
   ]
  },
  {
   "cell_type": "code",
   "execution_count": 16,
   "id": "impressive-grocery",
   "metadata": {},
   "outputs": [
    {
     "data": {
      "text/plain": [
       "<Figure size 640x480 with 0 Axes>"
      ]
     },
     "metadata": {},
     "output_type": "display_data"
    },
    {
     "data": {
      "image/png": "[encoded data removed]",
      "text/plain": [
       "<Figure size 500x350 with 2 Axes>"
      ]
     },
     "metadata": {},
     "output_type": "display_data"
    }
   ],
   "source": [
    "%matplotlib inline\n",
    "plot = fastplot.plot(None,  None, mode = 'callback', callback = lambda plt: fig7a1(plt, heatmaps, Vs, Cs),\n",
    "                     style='latex', figsize=(5, 3.5), fontsize=16)\n",
    "plot.show()"
   ]
  },
  {
   "cell_type": "code",
   "execution_count": 19,
   "id": "united-monroe",
   "metadata": {},
   "outputs": [
    {
     "data": {
      "text/plain": [
       "<Figure size 640x480 with 0 Axes>"
      ]
     },
     "metadata": {},
     "output_type": "display_data"
    },
    {
     "data": {
      "image/png": "[encoded data removed]",
      "text/plain": [
       "<Figure size 500x350 with 2 Axes>"
      ]
     },
     "metadata": {},
     "output_type": "display_data"
    }
   ],
   "source": [
    "%matplotlib inline\n",
    "plot = fastplot.plot(None,  None, mode = 'callback', callback = lambda plt: fig7a2(plt, heatmaps_time, Vs, Cs),\n",
    "                     style='latex', figsize=(5, 3.5), fontsize=16)\n",
    "plot.show()"
   ]
  },
  {
   "cell_type": "markdown",
   "id": "advisory-flash",
   "metadata": {},
   "source": [
    "### <b>Per-service Languages</b> <a name=\"perservice\"></a> \n"
   ]
  },
  {
   "cell_type": "code",
   "execution_count": 20,
   "id": "valued-heavy",
   "metadata": {},
   "outputs": [
    {
     "data": {
      "text/plain": [
       "<Figure size 640x480 with 0 Axes>"
      ]
     },
     "metadata": {},
     "output_type": "display_data"
    },
    {
     "data": {
      "image/png": "[encoded data removed]",
      "text/plain": [
       "<Figure size 500x350 with 2 Axes>"
      ]
     },
     "metadata": {},
     "output_type": "display_data"
    }
   ],
   "source": [
    "%matplotlib inline\n",
    "plot = fastplot.plot(None,  None, mode = 'callback', callback = lambda plt: fig7b1(plt, heatmaps, Vs, Cs),\n",
    "                     style='latex', figsize=(5, 3.5), fontsize=16)\n",
    "plot.show()"
   ]
  },
  {
   "cell_type": "code",
   "execution_count": 21,
   "id": "stretch-locking",
   "metadata": {},
   "outputs": [
    {
     "data": {
      "text/plain": [
       "<Figure size 640x480 with 0 Axes>"
      ]
     },
     "metadata": {},
     "output_type": "display_data"
    },
    {
     "data": {
      "image/png": "[encoded data removed]",
      "text/plain": [
       "<Figure size 500x350 with 2 Axes>"
      ]
     },
     "metadata": {},
     "output_type": "display_data"
    }
   ],
   "source": [
    "%matplotlib inline\n",
    "plot = fastplot.plot(None,  None, mode = 'callback', callback = lambda plt: fig7b2(plt, heatmaps_time, Vs, Cs),\n",
    "                     style='latex', figsize=(5, 3.5), fontsize=16)\n",
    "plot.show()"
   ]
  },
  {
   "cell_type": "markdown",
   "id": "appropriate-buyer",
   "metadata": {},
   "source": [
    "### <b>7-NN classifier report</b> <a name=\"7nnreport\"></a>  \n",
    "\n",
    "\n",
    "Finally, for each language we select the best model, re-run the knn classifier on the last day ground truth and generate a classification report for evaluating the precision/recall/F-measure values.\n",
    "\n",
    "More precisely, we consider the following parameters:\n",
    "* Per-service languages. $C=25$, $V=50$\n",
    "* Auto-defined languages. $C=50$, $V=50$\n",
    "* Single language. $C=75$, $V=50$"
   ]
  },
  {
   "cell_type": "code",
   "execution_count": 22,
   "id": "technological-commons",
   "metadata": {},
   "outputs": [
    {
     "data": {
      "text/html": [
       "<div>\n",
       "<style scoped>\n",
       "    .dataframe tbody tr th:only-of-type {\n",
       "        vertical-align: middle;\n",
       "    }\n",
       "\n",
       "    .dataframe tbody tr th {\n",
       "        vertical-align: top;\n",
       "    }\n",
       "\n",
       "    .dataframe thead th {\n",
       "        text-align: right;\n",
       "    }\n",
       "</style>\n",
       "<table border=\"1\" class=\"dataframe\">\n",
       "  <thead>\n",
       "    <tr style=\"text-align: right;\">\n",
       "      <th></th>\n",
       "      <th>ts</th>\n",
       "      <th>ip</th>\n",
       "      <th>port</th>\n",
       "      <th>proto</th>\n",
       "      <th>pp</th>\n",
       "      <th>class</th>\n",
       "    </tr>\n",
       "  </thead>\n",
       "  <tbody>\n",
       "    <tr>\n",
       "      <th>0</th>\n",
       "      <td>2021-03-31 08:29:08.449076</td>\n",
       "      <td>192.3.136.75</td>\n",
       "      <td>1970</td>\n",
       "      <td>TCP</td>\n",
       "      <td>1970/TCP</td>\n",
       "      <td>unknown</td>\n",
       "    </tr>\n",
       "    <tr>\n",
       "      <th>1</th>\n",
       "      <td>2021-03-31 08:29:08.449088</td>\n",
       "      <td>192.3.136.75</td>\n",
       "      <td>1970</td>\n",
       "      <td>TCP</td>\n",
       "      <td>1970/TCP</td>\n",
       "      <td>unknown</td>\n",
       "    </tr>\n",
       "    <tr>\n",
       "      <th>2</th>\n",
       "      <td>2021-03-31 08:29:08.451478</td>\n",
       "      <td>192.3.136.75</td>\n",
       "      <td>1970</td>\n",
       "      <td>TCP</td>\n",
       "      <td>1970/TCP</td>\n",
       "      <td>unknown</td>\n",
       "    </tr>\n",
       "    <tr>\n",
       "      <th>3</th>\n",
       "      <td>2021-03-31 08:29:08.451491</td>\n",
       "      <td>192.3.136.75</td>\n",
       "      <td>1970</td>\n",
       "      <td>TCP</td>\n",
       "      <td>1970/TCP</td>\n",
       "      <td>unknown</td>\n",
       "    </tr>\n",
       "    <tr>\n",
       "      <th>4</th>\n",
       "      <td>2021-03-31 08:29:08.459322</td>\n",
       "      <td>172.245.10.231</td>\n",
       "      <td>3956</td>\n",
       "      <td>TCP</td>\n",
       "      <td>3956/TCP</td>\n",
       "      <td>unknown</td>\n",
       "    </tr>\n",
       "  </tbody>\n",
       "</table>\n",
       "</div>"
      ],
      "text/plain": [
       "                           ts              ip  port proto        pp    class\n",
       "0  2021-03-31 08:29:08.449076    192.3.136.75  1970   TCP  1970/TCP  unknown\n",
       "1  2021-03-31 08:29:08.449088    192.3.136.75  1970   TCP  1970/TCP  unknown\n",
       "2  2021-03-31 08:29:08.451478    192.3.136.75  1970   TCP  1970/TCP  unknown\n",
       "3  2021-03-31 08:29:08.451491    192.3.136.75  1970   TCP  1970/TCP  unknown\n",
       "4  2021-03-31 08:29:08.459322  172.245.10.231  3956   TCP  3956/TCP  unknown"
      ]
     },
     "execution_count": 22,
     "metadata": {},
     "output_type": "execute_result"
    }
   ],
   "source": [
    "last_day = pd.read_csv(f'{DATASETS}/darknet_d1.csv.gz')\n",
    "last_day.head()"
   ]
  },
  {
   "cell_type": "markdown",
   "id": "bizarre-internship",
   "metadata": {},
   "source": [
    "Per-service language. $C=25$, $V=50$ <a id='knnreport30darkvec'></a>"
   ]
  },
  {
   "cell_type": "code",
   "execution_count": 23,
   "id": "increasing-character",
   "metadata": {},
   "outputs": [
    {
     "name": "stdout",
     "output_type": "stream",
     "text": [
      "                 precision    recall  f1-score   support\n",
      "\n",
      "     binaryedge       0.94      1.00      0.97       101\n",
      "         censys       0.91      0.94      0.93       336\n",
      "    engin-umich       1.00      1.00      1.00        10\n",
      "internet-census       0.94      1.00      0.97       103\n",
      "           ipip       0.34      0.84      0.49        49\n",
      "          mirai       1.00      0.97      0.98      7351\n",
      "           n.a.       0.00      0.00      0.00         0\n",
      "      sharashka       0.96      1.00      0.98        50\n",
      "         shodan       0.93      0.61      0.74        23\n",
      "     stretchoid       1.00      0.35      0.51       104\n",
      "        unknown       0.00      0.00      0.00         0\n",
      "\n",
      "       accuracy                           0.96      8127\n",
      "      macro avg       0.73      0.70      0.69      8127\n",
      "   weighted avg       0.99      0.96      0.97      8127\n",
      "\n"
     ]
    }
   ],
   "source": [
    "mname = f'service_c25_v50_iter20'\n",
    "model = load_model(mname)\n",
    "# Retrieve embeddings\n",
    "dataset = last_day[['ip', 'class']].drop_duplicates()\n",
    "embeddings = get_scaled_embeddings(dataset, model, mname, True)\n",
    "# Run the kNN classifier\n",
    "X, y, X_test, y_test = split_train_test(embeddings, with_unknown=False)\n",
    "y_true = y_test\n",
    "y_pred = fit_predict(X, y, X_test, y_test)\n",
    "\n",
    "print(report(y_true, y_pred))"
   ]
  },
  {
   "cell_type": "markdown",
   "id": "compound-painting",
   "metadata": {},
   "source": [
    "Auto-defined language. $C=50$, $V=50$"
   ]
  },
  {
   "cell_type": "code",
   "execution_count": 24,
   "id": "russian-compensation",
   "metadata": {},
   "outputs": [
    {
     "name": "stdout",
     "output_type": "stream",
     "text": [
      "                 precision    recall  f1-score   support\n",
      "\n",
      "     binaryedge       0.98      0.87      0.92       101\n",
      "         censys       0.96      1.00      0.98       336\n",
      "    engin-umich       0.62      1.00      0.77        10\n",
      "internet-census       0.79      0.86      0.83       103\n",
      "           ipip       0.51      0.86      0.64        49\n",
      "          mirai       1.00      0.98      0.99      7351\n",
      "           n.a.       0.00      0.00      0.00         0\n",
      "      sharashka       0.92      0.72      0.81        50\n",
      "         shodan       0.94      0.70      0.80        23\n",
      "     stretchoid       0.94      0.30      0.45       104\n",
      "        unknown       0.00      0.00      0.00         0\n",
      "\n",
      "       accuracy                           0.96      8127\n",
      "      macro avg       0.70      0.66      0.65      8127\n",
      "   weighted avg       0.99      0.96      0.97      8127\n",
      "\n"
     ]
    }
   ],
   "source": [
    "mname = f'auto_c50_v50_iter20'\n",
    "model = load_model(mname)\n",
    "# Retrieve embeddings\n",
    "dataset = last_day[['ip', 'class']].drop_duplicates()\n",
    "embeddings = get_scaled_embeddings(dataset, model, mname, True)\n",
    "# Run the kNN classifier\n",
    "X, y, X_test, y_test = split_train_test(embeddings, with_unknown=False)\n",
    "y_true = y_test\n",
    "y_pred = fit_predict(X, y, X_test, y_test)\n",
    "\n",
    "print(report(y_true, y_pred))"
   ]
  },
  {
   "cell_type": "markdown",
   "id": "sticky-colon",
   "metadata": {},
   "source": [
    "Single language. $C=75$, $V=50$"
   ]
  },
  {
   "cell_type": "code",
   "execution_count": 25,
   "id": "polished-terror",
   "metadata": {},
   "outputs": [
    {
     "name": "stdout",
     "output_type": "stream",
     "text": [
      "                 precision    recall  f1-score   support\n",
      "\n",
      "     binaryedge       0.44      0.74      0.56       101\n",
      "         censys       0.63      0.91      0.75       336\n",
      "    engin-umich       0.67      1.00      0.80        10\n",
      "internet-census       0.41      0.50      0.45       103\n",
      "           ipip       0.42      0.92      0.58        49\n",
      "          mirai       0.98      0.86      0.92      7351\n",
      "           n.a.       0.00      0.00      0.00         0\n",
      "      sharashka       0.12      0.02      0.03        50\n",
      "         shodan       0.00      0.00      0.00        23\n",
      "     stretchoid       0.03      0.01      0.01       104\n",
      "        unknown       0.00      0.00      0.00         0\n",
      "\n",
      "       accuracy                           0.84      8127\n",
      "      macro avg       0.34      0.45      0.37      8127\n",
      "   weighted avg       0.93      0.84      0.88      8127\n",
      "\n"
     ]
    }
   ],
   "source": [
    "mname = f'single_c75_v50_iter20'\n",
    "model = load_model(mname)\n",
    "# Retrieve embeddings\n",
    "dataset = last_day[['ip', 'class']].drop_duplicates()\n",
    "embeddings = get_scaled_embeddings(dataset, model, mname, True)\n",
    "# Run the kNN classifier\n",
    "X, y, X_test, y_test = split_train_test(embeddings, with_unknown=False)\n",
    "y_true = y_test\n",
    "y_pred = fit_predict(X, y, X_test, y_test)\n",
    "\n",
    "print(report(y_true, y_pred))"
   ]
  },
  {
   "cell_type": "markdown",
   "id": "impressed-lender",
   "metadata": {},
   "source": [
    "Finally we select the best case: Per-service languages, $C=25$, $V=50$. Then we retrieve the embeddings and save the intermediate preprocessing in the `DATASETS` path of the configuration file."
   ]
  },
  {
   "cell_type": "code",
   "execution_count": 26,
   "id": "immediate-metallic",
   "metadata": {},
   "outputs": [
    {
     "data": {
      "text/html": [
       "<div>\n",
       "<style scoped>\n",
       "    .dataframe tbody tr th:only-of-type {\n",
       "        vertical-align: middle;\n",
       "    }\n",
       "\n",
       "    .dataframe tbody tr th {\n",
       "        vertical-align: top;\n",
       "    }\n",
       "\n",
       "    .dataframe thead th {\n",
       "        text-align: right;\n",
       "    }\n",
       "</style>\n",
       "<table border=\"1\" class=\"dataframe\">\n",
       "  <thead>\n",
       "    <tr style=\"text-align: right;\">\n",
       "      <th></th>\n",
       "      <th>0</th>\n",
       "      <th>1</th>\n",
       "      <th>2</th>\n",
       "      <th>3</th>\n",
       "      <th>4</th>\n",
       "      <th>5</th>\n",
       "      <th>6</th>\n",
       "      <th>7</th>\n",
       "      <th>8</th>\n",
       "      <th>9</th>\n",
       "      <th>...</th>\n",
       "      <th>41</th>\n",
       "      <th>42</th>\n",
       "      <th>43</th>\n",
       "      <th>44</th>\n",
       "      <th>45</th>\n",
       "      <th>46</th>\n",
       "      <th>47</th>\n",
       "      <th>48</th>\n",
       "      <th>49</th>\n",
       "      <th>class</th>\n",
       "    </tr>\n",
       "    <tr>\n",
       "      <th>ip</th>\n",
       "      <th></th>\n",
       "      <th></th>\n",
       "      <th></th>\n",
       "      <th></th>\n",
       "      <th></th>\n",
       "      <th></th>\n",
       "      <th></th>\n",
       "      <th></th>\n",
       "      <th></th>\n",
       "      <th></th>\n",
       "      <th></th>\n",
       "      <th></th>\n",
       "      <th></th>\n",
       "      <th></th>\n",
       "      <th></th>\n",
       "      <th></th>\n",
       "      <th></th>\n",
       "      <th></th>\n",
       "      <th></th>\n",
       "      <th></th>\n",
       "      <th></th>\n",
       "    </tr>\n",
       "  </thead>\n",
       "  <tbody>\n",
       "    <tr>\n",
       "      <th>192.3.136.75</th>\n",
       "      <td>-0.880609</td>\n",
       "      <td>0.939509</td>\n",
       "      <td>-0.981673</td>\n",
       "      <td>0.632472</td>\n",
       "      <td>-0.137714</td>\n",
       "      <td>-0.623512</td>\n",
       "      <td>-0.312578</td>\n",
       "      <td>0.353500</td>\n",
       "      <td>-0.481570</td>\n",
       "      <td>-0.092065</td>\n",
       "      <td>...</td>\n",
       "      <td>-0.083845</td>\n",
       "      <td>0.034996</td>\n",
       "      <td>1.871216</td>\n",
       "      <td>-1.650959</td>\n",
       "      <td>-0.546646</td>\n",
       "      <td>-2.534351</td>\n",
       "      <td>0.454603</td>\n",
       "      <td>0.401673</td>\n",
       "      <td>0.011954</td>\n",
       "      <td>unknown</td>\n",
       "    </tr>\n",
       "    <tr>\n",
       "      <th>172.245.10.231</th>\n",
       "      <td>-0.821886</td>\n",
       "      <td>0.938257</td>\n",
       "      <td>-0.939138</td>\n",
       "      <td>0.768093</td>\n",
       "      <td>-0.368143</td>\n",
       "      <td>-0.342307</td>\n",
       "      <td>0.361761</td>\n",
       "      <td>-0.020825</td>\n",
       "      <td>-0.124277</td>\n",
       "      <td>-0.606136</td>\n",
       "      <td>...</td>\n",
       "      <td>-0.158201</td>\n",
       "      <td>-0.086896</td>\n",
       "      <td>1.609598</td>\n",
       "      <td>-1.911658</td>\n",
       "      <td>-0.237953</td>\n",
       "      <td>-2.353073</td>\n",
       "      <td>0.416320</td>\n",
       "      <td>0.604326</td>\n",
       "      <td>0.213149</td>\n",
       "      <td>unknown</td>\n",
       "    </tr>\n",
       "    <tr>\n",
       "      <th>45.155.205.93</th>\n",
       "      <td>-0.853992</td>\n",
       "      <td>0.928514</td>\n",
       "      <td>-0.472147</td>\n",
       "      <td>0.761264</td>\n",
       "      <td>-0.075501</td>\n",
       "      <td>-0.727555</td>\n",
       "      <td>0.194575</td>\n",
       "      <td>0.136880</td>\n",
       "      <td>-0.299064</td>\n",
       "      <td>-0.551627</td>\n",
       "      <td>...</td>\n",
       "      <td>-0.455980</td>\n",
       "      <td>0.128353</td>\n",
       "      <td>1.622241</td>\n",
       "      <td>-2.089224</td>\n",
       "      <td>-0.368021</td>\n",
       "      <td>-2.283580</td>\n",
       "      <td>0.647499</td>\n",
       "      <td>0.296732</td>\n",
       "      <td>-0.031751</td>\n",
       "      <td>unknown</td>\n",
       "    </tr>\n",
       "    <tr>\n",
       "      <th>23.129.64.232</th>\n",
       "      <td>-1.217581</td>\n",
       "      <td>-0.378261</td>\n",
       "      <td>-0.192762</td>\n",
       "      <td>1.568114</td>\n",
       "      <td>-0.556128</td>\n",
       "      <td>-0.259799</td>\n",
       "      <td>0.965861</td>\n",
       "      <td>-0.516977</td>\n",
       "      <td>0.512646</td>\n",
       "      <td>-1.537555</td>\n",
       "      <td>...</td>\n",
       "      <td>-0.321514</td>\n",
       "      <td>0.101018</td>\n",
       "      <td>1.000412</td>\n",
       "      <td>-1.787732</td>\n",
       "      <td>-0.017220</td>\n",
       "      <td>0.311011</td>\n",
       "      <td>-1.012398</td>\n",
       "      <td>0.922475</td>\n",
       "      <td>-0.332703</td>\n",
       "      <td>unknown</td>\n",
       "    </tr>\n",
       "    <tr>\n",
       "      <th>192.241.222.5</th>\n",
       "      <td>-0.891606</td>\n",
       "      <td>-0.990258</td>\n",
       "      <td>0.346513</td>\n",
       "      <td>2.213809</td>\n",
       "      <td>0.213245</td>\n",
       "      <td>1.461398</td>\n",
       "      <td>-2.134602</td>\n",
       "      <td>1.168318</td>\n",
       "      <td>3.543771</td>\n",
       "      <td>-0.376963</td>\n",
       "      <td>...</td>\n",
       "      <td>-0.114518</td>\n",
       "      <td>2.805775</td>\n",
       "      <td>-4.283203</td>\n",
       "      <td>1.905293</td>\n",
       "      <td>-4.161075</td>\n",
       "      <td>1.423379</td>\n",
       "      <td>-1.779000</td>\n",
       "      <td>0.846066</td>\n",
       "      <td>0.539168</td>\n",
       "      <td>stretchoid</td>\n",
       "    </tr>\n",
       "  </tbody>\n",
       "</table>\n",
       "<p>5 rows × 51 columns</p>\n",
       "</div>"
      ],
      "text/plain": [
       "                       0         1         2         3         4         5  \\\n",
       "ip                                                                           \n",
       "192.3.136.75   -0.880609  0.939509 -0.981673  0.632472 -0.137714 -0.623512   \n",
       "172.245.10.231 -0.821886  0.938257 -0.939138  0.768093 -0.368143 -0.342307   \n",
       "45.155.205.93  -0.853992  0.928514 -0.472147  0.761264 -0.075501 -0.727555   \n",
       "23.129.64.232  -1.217581 -0.378261 -0.192762  1.568114 -0.556128 -0.259799   \n",
       "192.241.222.5  -0.891606 -0.990258  0.346513  2.213809  0.213245  1.461398   \n",
       "\n",
       "                       6         7         8         9  ...        41  \\\n",
       "ip                                                      ...             \n",
       "192.3.136.75   -0.312578  0.353500 -0.481570 -0.092065  ... -0.083845   \n",
       "172.245.10.231  0.361761 -0.020825 -0.124277 -0.606136  ... -0.158201   \n",
       "45.155.205.93   0.194575  0.136880 -0.299064 -0.551627  ... -0.455980   \n",
       "23.129.64.232   0.965861 -0.516977  0.512646 -1.537555  ... -0.321514   \n",
       "192.241.222.5  -2.134602  1.168318  3.543771 -0.376963  ... -0.114518   \n",
       "\n",
       "                      42        43        44        45        46        47  \\\n",
       "ip                                                                           \n",
       "192.3.136.75    0.034996  1.871216 -1.650959 -0.546646 -2.534351  0.454603   \n",
       "172.245.10.231 -0.086896  1.609598 -1.911658 -0.237953 -2.353073  0.416320   \n",
       "45.155.205.93   0.128353  1.622241 -2.089224 -0.368021 -2.283580  0.647499   \n",
       "23.129.64.232   0.101018  1.000412 -1.787732 -0.017220  0.311011 -1.012398   \n",
       "192.241.222.5   2.805775 -4.283203  1.905293 -4.161075  1.423379 -1.779000   \n",
       "\n",
       "                      48        49       class  \n",
       "ip                                              \n",
       "192.3.136.75    0.401673  0.011954     unknown  \n",
       "172.245.10.231  0.604326  0.213149     unknown  \n",
       "45.155.205.93   0.296732 -0.031751     unknown  \n",
       "23.129.64.232   0.922475 -0.332703     unknown  \n",
       "192.241.222.5   0.846066  0.539168  stretchoid  \n",
       "\n",
       "[5 rows x 51 columns]"
      ]
     },
     "execution_count": 26,
     "metadata": {},
     "output_type": "execute_result"
    }
   ],
   "source": [
    "mname = f'service_c25_v50_iter20'\n",
    "model = load_model(mname)\n",
    "# Retrieve embeddings\n",
    "dataset = last_day[['ip', 'class']].drop_duplicates()\n",
    "embeddings = get_scaled_embeddings(dataset, model, mname, True)\n",
    "#embeddings.to_csv(f'{DATASETS}/embeddings_d1_f30.csv.gz')\n",
    "\n",
    "embeddings.head()"
   ]
  },
  {
   "cell_type": "markdown",
   "id": "relevant-seven",
   "metadata": {},
   "source": [
    "# <b>State of the Art Comparison</b> <a id=\"soa\"></a>  \n",
    "\n",
    "\n",
    "Here we run the experiments for comparing different methodologies (DarkVec, IP2VEC and DANTE). The original plan was to test the three models trained both over 5 days and 30 days. However, in the 5 days case, only DarkVec and IP2VEC were able to end the training. Regarding the 30 days, only the DarkVec was able to do this, so the accuracy value is the same of the [previous experiment](#knnreport30darkvec)."
   ]
  },
  {
   "cell_type": "markdown",
   "id": "following-documentation",
   "metadata": {},
   "source": [
    "### <b>DarkVec 5 Days</b> <a name=\"darkveccomp\"></a>  \n",
    "\n"
   ]
  },
  {
   "cell_type": "code",
   "execution_count": 27,
   "id": "rubber-religious",
   "metadata": {},
   "outputs": [
    {
     "name": "stdout",
     "output_type": "stream",
     "text": [
      "                 precision    recall  f1-score   support\n",
      "\n",
      "     binaryedge       0.92      0.94      0.93        83\n",
      "         censys       0.77      0.92      0.84       336\n",
      "    engin-umich       0.91      1.00      0.95        10\n",
      "internet-census       0.85      0.79      0.82       103\n",
      "           ipip       0.29      0.76      0.42        49\n",
      "          mirai       0.99      0.96      0.98      5892\n",
      "           n.a.       0.00      0.00      0.00         0\n",
      "      sharashka       0.67      0.04      0.08        50\n",
      "         shodan       0.67      0.09      0.15        23\n",
      "     stretchoid       0.74      0.31      0.44       104\n",
      "        unknown       0.00      0.00      0.00         0\n",
      "\n",
      "       accuracy                           0.93      6650\n",
      "      macro avg       0.62      0.53      0.51      6650\n",
      "   weighted avg       0.97      0.93      0.94      6650\n",
      "\n"
     ]
    }
   ],
   "source": [
    "last5 = pd.read_csv(f'{DATASETS}/darknet_d1_f5.csv.gz')\n",
    "mname = f'fivedays_c25_v50_iter20'\n",
    "model = load_model(mname)\n",
    "# Retrieve embeddings\n",
    "dataset = last5[['ip', 'class']].drop_duplicates()\n",
    "embeddings = get_scaled_embeddings(dataset, model, mname, True)\n",
    "# Run the kNN classifier\n",
    "X, y, X_test, y_test = split_train_test(embeddings, with_unknown=False)\n",
    "y_true = y_test\n",
    "y_pred = fit_predict(X, y, X_test, y_test)\n",
    "\n",
    "print(report(y_true, y_pred))"
   ]
  },
  {
   "cell_type": "markdown",
   "id": "experienced-webcam",
   "metadata": {},
   "source": [
    "### <b>IP2VEC 5 Days</b> <a name=\"ip2veccomp\"></a>  \n",
    "\n"
   ]
  },
  {
   "cell_type": "code",
   "execution_count": 28,
   "id": "unable-attention",
   "metadata": {},
   "outputs": [
    {
     "name": "stdout",
     "output_type": "stream",
     "text": [
      "                 precision    recall  f1-score   support\n",
      "\n",
      "     binaryedge       0.01      0.01      0.01        83\n",
      "         censys       0.06      0.09      0.07       336\n",
      "    engin-umich       0.06      0.10      0.07        10\n",
      "internet-census       0.01      0.01      0.01       103\n",
      "           ipip       0.01      0.02      0.02        49\n",
      "          mirai       0.88      0.74      0.81      5892\n",
      "           n.a.       0.00      0.00      0.00         0\n",
      "      sharashka       0.00      0.00      0.00        50\n",
      "         shodan       0.00      0.00      0.00        23\n",
      "     stretchoid       0.00      0.00      0.00       104\n",
      "        unknown       0.00      0.00      0.00         0\n",
      "\n",
      "       accuracy                           0.67      6650\n",
      "      macro avg       0.09      0.09      0.09      6650\n",
      "   weighted avg       0.79      0.67      0.72      6650\n",
      "\n"
     ]
    }
   ],
   "source": [
    "embeddings_ip2vec = pd.read_csv(f'{DATASETS}/embeddings_ip2vec.csv.gz')\\\n",
    "                      .set_index('ip')\n",
    "\n",
    "# Run the kNN classifier\n",
    "X, y, X_test, y_test = split_train_test(embeddings_ip2vec, with_unknown=False)\n",
    "y_true = y_test\n",
    "y_pred = fit_predict(X, y, X_test, y_test)\n",
    "\n",
    "print(report(y_true, y_pred))"
   ]
  },
  {
   "cell_type": "code",
   "execution_count": null,
   "id": "9dd73d30-0d92-4ff5-a99b-0554d140b437",
   "metadata": {},
   "outputs": [],
   "source": []
  }
 ],
 "metadata": {
  "kernelspec": {
   "display_name": "Python 3",
   "language": "python",
   "name": "python3"
  },
  "language_info": {
   "codemirror_mode": {
    "name": "ipython",
    "version": 3
   },
   "file_extension": ".py",
   "mimetype": "text/x-python",
   "name": "python",
   "nbconvert_exporter": "python",
   "pygments_lexer": "ipython3",
   "version": "3.9.7"
  }
 },
 "nbformat": 4,
 "nbformat_minor": 5
}
